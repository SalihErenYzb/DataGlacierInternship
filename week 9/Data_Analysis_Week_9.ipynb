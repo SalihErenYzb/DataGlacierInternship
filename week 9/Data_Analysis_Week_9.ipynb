{
 "cells": [
  {
   "cell_type": "code",
   "execution_count": 1,
   "id": "61a80824",
   "metadata": {},
   "outputs": [],
   "source": [
    "import os\n",
    "import pandas as pd\n",
    "import numpy as np\n",
    "import matplotlib.pyplot as plt\n",
    "import seaborn as sns\n",
    "%matplotlib inline\n",
    "import warnings\n",
    "import statsmodels.api as sm\n",
    "import plotly.express as px"
   ]
  },
  {
   "cell_type": "code",
   "execution_count": 2,
   "id": "a445f6d4",
   "metadata": {},
   "outputs": [],
   "source": [
    "#Read the master data\n",
    "df = pd.read_csv(\"master_data.csv\")"
   ]
  },
  {
   "cell_type": "code",
   "execution_count": 3,
   "id": "dee1be10",
   "metadata": {},
   "outputs": [
    {
     "data": {
      "text/html": [
       "<div>\n",
       "<style scoped>\n",
       "    .dataframe tbody tr th:only-of-type {\n",
       "        vertical-align: middle;\n",
       "    }\n",
       "\n",
       "    .dataframe tbody tr th {\n",
       "        vertical-align: top;\n",
       "    }\n",
       "\n",
       "    .dataframe thead th {\n",
       "        text-align: right;\n",
       "    }\n",
       "</style>\n",
       "<table border=\"1\" class=\"dataframe\">\n",
       "  <thead>\n",
       "    <tr style=\"text-align: right;\">\n",
       "      <th></th>\n",
       "      <th>Name</th>\n",
       "      <th>Email_x</th>\n",
       "      <th>Age</th>\n",
       "      <th>Country</th>\n",
       "      <th>Email_y</th>\n",
       "      <th>Education Level</th>\n",
       "      <th>Number of Languages Spoken</th>\n",
       "      <th>Email_x.1</th>\n",
       "      <th>Gender</th>\n",
       "      <th>Satisfaction Rate</th>\n",
       "      <th>Email_y.1</th>\n",
       "      <th>Marital Status</th>\n",
       "      <th>Number of Children</th>\n",
       "    </tr>\n",
       "  </thead>\n",
       "  <tbody>\n",
       "    <tr>\n",
       "      <th>0</th>\n",
       "      <td>Landon Patel</td>\n",
       "      <td>landonpatel@gmail.com</td>\n",
       "      <td>32</td>\n",
       "      <td>United States</td>\n",
       "      <td>landonpatel@gmail.com</td>\n",
       "      <td>Bachelor's Degree</td>\n",
       "      <td>2</td>\n",
       "      <td>landonpatel@gmail.com</td>\n",
       "      <td>Male</td>\n",
       "      <td>8</td>\n",
       "      <td>landonpatel@gmail.com</td>\n",
       "      <td>Single</td>\n",
       "      <td>3</td>\n",
       "    </tr>\n",
       "    <tr>\n",
       "      <th>1</th>\n",
       "      <td>Cassidy Turner</td>\n",
       "      <td>cassidyturner@yahoo.com</td>\n",
       "      <td>24</td>\n",
       "      <td>Canada</td>\n",
       "      <td>cassidyturner@yahoo.com</td>\n",
       "      <td>Master's Degree</td>\n",
       "      <td>1</td>\n",
       "      <td>cassidyturner@yahoo.com</td>\n",
       "      <td>Non-binary</td>\n",
       "      <td>9</td>\n",
       "      <td>cassidyturner@yahoo.com</td>\n",
       "      <td>Married</td>\n",
       "      <td>4</td>\n",
       "    </tr>\n",
       "    <tr>\n",
       "      <th>2</th>\n",
       "      <td>Axl Thompson</td>\n",
       "      <td>axl.thompson@hotmail.com</td>\n",
       "      <td>43</td>\n",
       "      <td>United States</td>\n",
       "      <td>axl.thompson@hotmail.com</td>\n",
       "      <td>High School</td>\n",
       "      <td>3</td>\n",
       "      <td>axl.thompson@hotmail.com</td>\n",
       "      <td>Male</td>\n",
       "      <td>7</td>\n",
       "      <td>axl.thompson@hotmail.com</td>\n",
       "      <td>Single</td>\n",
       "      <td>1</td>\n",
       "    </tr>\n",
       "    <tr>\n",
       "      <th>3</th>\n",
       "      <td>Ivy Wilson</td>\n",
       "      <td>ivywilson@gmail.com</td>\n",
       "      <td>58</td>\n",
       "      <td>United Kingdom</td>\n",
       "      <td>ivywilson@gmail.com</td>\n",
       "      <td>Bachelor's Degree</td>\n",
       "      <td>4</td>\n",
       "      <td>ivywilson@gmail.com</td>\n",
       "      <td>Female</td>\n",
       "      <td>6</td>\n",
       "      <td>ivywilson@gmail.com</td>\n",
       "      <td>Divorced</td>\n",
       "      <td>0</td>\n",
       "    </tr>\n",
       "    <tr>\n",
       "      <th>4</th>\n",
       "      <td>Reece Scott</td>\n",
       "      <td>reece.scott@outlook.com</td>\n",
       "      <td>26</td>\n",
       "      <td>Australia</td>\n",
       "      <td>reece.scott@outlook.com</td>\n",
       "      <td>Doctorate</td>\n",
       "      <td>4</td>\n",
       "      <td>reece.scott@outlook.com</td>\n",
       "      <td>Male</td>\n",
       "      <td>4</td>\n",
       "      <td>reece.scott@outlook.com</td>\n",
       "      <td>Married</td>\n",
       "      <td>2</td>\n",
       "    </tr>\n",
       "  </tbody>\n",
       "</table>\n",
       "</div>"
      ],
      "text/plain": [
       "             Name                   Email_x  Age         Country  \\\n",
       "0    Landon Patel     landonpatel@gmail.com   32   United States   \n",
       "1  Cassidy Turner   cassidyturner@yahoo.com   24          Canada   \n",
       "2    Axl Thompson  axl.thompson@hotmail.com   43   United States   \n",
       "3      Ivy Wilson       ivywilson@gmail.com   58  United Kingdom   \n",
       "4     Reece Scott   reece.scott@outlook.com   26       Australia   \n",
       "\n",
       "                    Email_y    Education Level  Number of Languages Spoken  \\\n",
       "0     landonpatel@gmail.com  Bachelor's Degree                           2   \n",
       "1   cassidyturner@yahoo.com    Master's Degree                           1   \n",
       "2  axl.thompson@hotmail.com        High School                           3   \n",
       "3       ivywilson@gmail.com  Bachelor's Degree                           4   \n",
       "4   reece.scott@outlook.com          Doctorate                           4   \n",
       "\n",
       "                  Email_x.1      Gender  Satisfaction Rate  \\\n",
       "0     landonpatel@gmail.com        Male                  8   \n",
       "1   cassidyturner@yahoo.com  Non-binary                  9   \n",
       "2  axl.thompson@hotmail.com        Male                  7   \n",
       "3       ivywilson@gmail.com      Female                  6   \n",
       "4   reece.scott@outlook.com        Male                  4   \n",
       "\n",
       "                  Email_y.1 Marital Status  Number of Children  \n",
       "0     landonpatel@gmail.com         Single                   3  \n",
       "1   cassidyturner@yahoo.com        Married                   4  \n",
       "2  axl.thompson@hotmail.com         Single                   1  \n",
       "3       ivywilson@gmail.com       Divorced                   0  \n",
       "4   reece.scott@outlook.com        Married                   2  "
      ]
     },
     "execution_count": 3,
     "metadata": {},
     "output_type": "execute_result"
    }
   ],
   "source": [
    "# First 5 in our dataset\n",
    "df.head()"
   ]
  },
  {
   "cell_type": "code",
   "execution_count": 4,
   "id": "b1b60246",
   "metadata": {},
   "outputs": [
    {
     "data": {
      "text/html": [
       "<div>\n",
       "<style scoped>\n",
       "    .dataframe tbody tr th:only-of-type {\n",
       "        vertical-align: middle;\n",
       "    }\n",
       "\n",
       "    .dataframe tbody tr th {\n",
       "        vertical-align: top;\n",
       "    }\n",
       "\n",
       "    .dataframe thead th {\n",
       "        text-align: right;\n",
       "    }\n",
       "</style>\n",
       "<table border=\"1\" class=\"dataframe\">\n",
       "  <thead>\n",
       "    <tr style=\"text-align: right;\">\n",
       "      <th></th>\n",
       "      <th>Name</th>\n",
       "      <th>Email_x</th>\n",
       "      <th>Age</th>\n",
       "      <th>Country</th>\n",
       "      <th>Email_y</th>\n",
       "      <th>Education Level</th>\n",
       "      <th>Number of Languages Spoken</th>\n",
       "      <th>Email_x.1</th>\n",
       "      <th>Gender</th>\n",
       "      <th>Satisfaction Rate</th>\n",
       "      <th>Email_y.1</th>\n",
       "      <th>Marital Status</th>\n",
       "      <th>Number of Children</th>\n",
       "    </tr>\n",
       "  </thead>\n",
       "  <tbody>\n",
       "    <tr>\n",
       "      <th>82</th>\n",
       "      <td>Ryann Davis</td>\n",
       "      <td>ryann.davis@gmail.com</td>\n",
       "      <td>24</td>\n",
       "      <td>Canada</td>\n",
       "      <td>ryann.davis@gmail.com</td>\n",
       "      <td>Bachelor's Degree</td>\n",
       "      <td>1</td>\n",
       "      <td>ryann.davis@gmail.com</td>\n",
       "      <td>Female</td>\n",
       "      <td>10</td>\n",
       "      <td>ryann.davis@gmail.com</td>\n",
       "      <td>Single</td>\n",
       "      <td>0</td>\n",
       "    </tr>\n",
       "    <tr>\n",
       "      <th>83</th>\n",
       "      <td>Lara Johnson</td>\n",
       "      <td>lara.johnson@yahoo.com</td>\n",
       "      <td>54</td>\n",
       "      <td>United States</td>\n",
       "      <td>lara.johnson@yahoo.com</td>\n",
       "      <td>Master's Degree</td>\n",
       "      <td>3</td>\n",
       "      <td>lara.johnson@yahoo.com</td>\n",
       "      <td>Female</td>\n",
       "      <td>3</td>\n",
       "      <td>lara.johnson@yahoo.com</td>\n",
       "      <td>Married</td>\n",
       "      <td>2</td>\n",
       "    </tr>\n",
       "    <tr>\n",
       "      <th>84</th>\n",
       "      <td>Paislee King</td>\n",
       "      <td>paislee_king@hotmail.com</td>\n",
       "      <td>61</td>\n",
       "      <td>United Kingdom</td>\n",
       "      <td>paislee_king@hotmail.com</td>\n",
       "      <td>High School</td>\n",
       "      <td>1</td>\n",
       "      <td>paislee_king@hotmail.com</td>\n",
       "      <td>Female</td>\n",
       "      <td>4</td>\n",
       "      <td>paislee_king@hotmail.com</td>\n",
       "      <td>Single</td>\n",
       "      <td>1</td>\n",
       "    </tr>\n",
       "    <tr>\n",
       "      <th>85</th>\n",
       "      <td>Kole Scott</td>\n",
       "      <td>kole_scott@gmail.com</td>\n",
       "      <td>63</td>\n",
       "      <td>Australia</td>\n",
       "      <td>kole_scott@gmail.com</td>\n",
       "      <td>Bachelor's Degree</td>\n",
       "      <td>4</td>\n",
       "      <td>kole_scott@gmail.com</td>\n",
       "      <td>Male</td>\n",
       "      <td>8</td>\n",
       "      <td>kole_scott@gmail.com</td>\n",
       "      <td>Married</td>\n",
       "      <td>3</td>\n",
       "    </tr>\n",
       "    <tr>\n",
       "      <th>86</th>\n",
       "      <td>Alaia Taylor</td>\n",
       "      <td>alaia_taylor@yahoo.com</td>\n",
       "      <td>23</td>\n",
       "      <td>United States</td>\n",
       "      <td>alaia_taylor@yahoo.com</td>\n",
       "      <td>Doctorate</td>\n",
       "      <td>2</td>\n",
       "      <td>alaia_taylor@yahoo.com</td>\n",
       "      <td>Female</td>\n",
       "      <td>2</td>\n",
       "      <td>alaia_taylor@yahoo.com</td>\n",
       "      <td>Married</td>\n",
       "      <td>4</td>\n",
       "    </tr>\n",
       "  </tbody>\n",
       "</table>\n",
       "</div>"
      ],
      "text/plain": [
       "            Name                   Email_x  Age         Country  \\\n",
       "82   Ryann Davis     ryann.davis@gmail.com   24          Canada   \n",
       "83  Lara Johnson    lara.johnson@yahoo.com   54   United States   \n",
       "84  Paislee King  paislee_king@hotmail.com   61  United Kingdom   \n",
       "85    Kole Scott      kole_scott@gmail.com   63       Australia   \n",
       "86  Alaia Taylor    alaia_taylor@yahoo.com   23   United States   \n",
       "\n",
       "                     Email_y    Education Level  Number of Languages Spoken  \\\n",
       "82     ryann.davis@gmail.com  Bachelor's Degree                           1   \n",
       "83    lara.johnson@yahoo.com    Master's Degree                           3   \n",
       "84  paislee_king@hotmail.com        High School                           1   \n",
       "85      kole_scott@gmail.com  Bachelor's Degree                           4   \n",
       "86    alaia_taylor@yahoo.com          Doctorate                           2   \n",
       "\n",
       "                   Email_x.1  Gender  Satisfaction Rate  \\\n",
       "82     ryann.davis@gmail.com  Female                 10   \n",
       "83    lara.johnson@yahoo.com  Female                  3   \n",
       "84  paislee_king@hotmail.com  Female                  4   \n",
       "85      kole_scott@gmail.com    Male                  8   \n",
       "86    alaia_taylor@yahoo.com  Female                  2   \n",
       "\n",
       "                   Email_y.1 Marital Status  Number of Children  \n",
       "82     ryann.davis@gmail.com         Single                   0  \n",
       "83    lara.johnson@yahoo.com        Married                   2  \n",
       "84  paislee_king@hotmail.com         Single                   1  \n",
       "85      kole_scott@gmail.com        Married                   3  \n",
       "86    alaia_taylor@yahoo.com        Married                   4  "
      ]
     },
     "execution_count": 4,
     "metadata": {},
     "output_type": "execute_result"
    }
   ],
   "source": [
    "#Last 5 rows in our dataset\n",
    "df.tail()"
   ]
  },
  {
   "cell_type": "code",
   "execution_count": 5,
   "id": "6b862962",
   "metadata": {},
   "outputs": [
    {
     "name": "stdout",
     "output_type": "stream",
     "text": [
      "<class 'pandas.core.frame.DataFrame'>\n",
      "RangeIndex: 87 entries, 0 to 86\n",
      "Data columns (total 13 columns):\n",
      " #   Column                      Non-Null Count  Dtype \n",
      "---  ------                      --------------  ----- \n",
      " 0   Name                        87 non-null     object\n",
      " 1   Email_x                     87 non-null     object\n",
      " 2   Age                         87 non-null     int64 \n",
      " 3   Country                     87 non-null     object\n",
      " 4   Email_y                     87 non-null     object\n",
      " 5   Education Level             87 non-null     object\n",
      " 6   Number of Languages Spoken  87 non-null     int64 \n",
      " 7   Email_x.1                   87 non-null     object\n",
      " 8   Gender                      87 non-null     object\n",
      " 9   Satisfaction Rate           87 non-null     int64 \n",
      " 10  Email_y.1                   87 non-null     object\n",
      " 11  Marital Status              87 non-null     object\n",
      " 12  Number of Children          87 non-null     int64 \n",
      "dtypes: int64(4), object(9)\n",
      "memory usage: 9.0+ KB\n"
     ]
    }
   ],
   "source": [
    "#Master Data General information \n",
    "df.info()"
   ]
  },
  {
   "cell_type": "code",
   "execution_count": 6,
   "id": "5d438f8c",
   "metadata": {},
   "outputs": [
    {
     "name": "stderr",
     "output_type": "stream",
     "text": [
      "C:\\Users\\Salih\\AppData\\Local\\Temp\\ipykernel_21792\\3147825259.py:2: FutureWarning: The default value of numeric_only in DataFrame.corr is deprecated. In a future version, it will default to False. Select only valid columns or specify the value of numeric_only to silence this warning.\n",
      "  df.corr()\n"
     ]
    },
    {
     "data": {
      "text/html": [
       "<div>\n",
       "<style scoped>\n",
       "    .dataframe tbody tr th:only-of-type {\n",
       "        vertical-align: middle;\n",
       "    }\n",
       "\n",
       "    .dataframe tbody tr th {\n",
       "        vertical-align: top;\n",
       "    }\n",
       "\n",
       "    .dataframe thead th {\n",
       "        text-align: right;\n",
       "    }\n",
       "</style>\n",
       "<table border=\"1\" class=\"dataframe\">\n",
       "  <thead>\n",
       "    <tr style=\"text-align: right;\">\n",
       "      <th></th>\n",
       "      <th>Age</th>\n",
       "      <th>Number of Languages Spoken</th>\n",
       "      <th>Satisfaction Rate</th>\n",
       "      <th>Number of Children</th>\n",
       "    </tr>\n",
       "  </thead>\n",
       "  <tbody>\n",
       "    <tr>\n",
       "      <th>Age</th>\n",
       "      <td>1.000000</td>\n",
       "      <td>0.125291</td>\n",
       "      <td>0.071077</td>\n",
       "      <td>-0.081498</td>\n",
       "    </tr>\n",
       "    <tr>\n",
       "      <th>Number of Languages Spoken</th>\n",
       "      <td>0.125291</td>\n",
       "      <td>1.000000</td>\n",
       "      <td>-0.090605</td>\n",
       "      <td>-0.074881</td>\n",
       "    </tr>\n",
       "    <tr>\n",
       "      <th>Satisfaction Rate</th>\n",
       "      <td>0.071077</td>\n",
       "      <td>-0.090605</td>\n",
       "      <td>1.000000</td>\n",
       "      <td>-0.035048</td>\n",
       "    </tr>\n",
       "    <tr>\n",
       "      <th>Number of Children</th>\n",
       "      <td>-0.081498</td>\n",
       "      <td>-0.074881</td>\n",
       "      <td>-0.035048</td>\n",
       "      <td>1.000000</td>\n",
       "    </tr>\n",
       "  </tbody>\n",
       "</table>\n",
       "</div>"
      ],
      "text/plain": [
       "                                 Age  Number of Languages Spoken  \\\n",
       "Age                         1.000000                    0.125291   \n",
       "Number of Languages Spoken  0.125291                    1.000000   \n",
       "Satisfaction Rate           0.071077                   -0.090605   \n",
       "Number of Children         -0.081498                   -0.074881   \n",
       "\n",
       "                            Satisfaction Rate  Number of Children  \n",
       "Age                                  0.071077           -0.081498  \n",
       "Number of Languages Spoken          -0.090605           -0.074881  \n",
       "Satisfaction Rate                    1.000000           -0.035048  \n",
       "Number of Children                  -0.035048            1.000000  "
      ]
     },
     "execution_count": 6,
     "metadata": {},
     "output_type": "execute_result"
    }
   ],
   "source": [
    "#Correlation between numerical columns\n",
    "df.corr()"
   ]
  },
  {
   "cell_type": "code",
   "execution_count": 7,
   "id": "c0fb6ccb",
   "metadata": {},
   "outputs": [
    {
     "data": {
      "text/plain": [
       "1131"
      ]
     },
     "execution_count": 7,
     "metadata": {},
     "output_type": "execute_result"
    }
   ],
   "source": [
    "#Size of Data\n",
    "df.size"
   ]
  },
  {
   "cell_type": "code",
   "execution_count": 8,
   "id": "e358ea37",
   "metadata": {},
   "outputs": [],
   "source": [
    "#Import columns for duplication test\n",
    "duplicates = df.duplicated()"
   ]
  },
  {
   "cell_type": "code",
   "execution_count": 9,
   "id": "6c50d1f0",
   "metadata": {},
   "outputs": [
    {
     "name": "stdout",
     "output_type": "stream",
     "text": [
      "Empty DataFrame\n",
      "Columns: [Name, Email_x, Age, Country, Email_y, Education Level, Number of Languages Spoken, Email_x.1, Gender, Satisfaction Rate, Email_y.1, Marital Status, Number of Children]\n",
      "Index: []\n"
     ]
    }
   ],
   "source": [
    "# Check for Duplicates\n",
    "duplicate_rows = df[duplicates]\n",
    "print(duplicate_rows)"
   ]
  },
  {
   "cell_type": "code",
   "execution_count": 10,
   "id": "879e1473",
   "metadata": {},
   "outputs": [
    {
     "data": {
      "text/plain": [
       "[Text(0, 0, 'Age'),\n",
       " Text(1, 0, 'Number of Languages Spoken'),\n",
       " Text(2, 0, 'Satisfaction Rate'),\n",
       " Text(3, 0, 'Number of Children')]"
      ]
     },
     "execution_count": 10,
     "metadata": {},
     "output_type": "execute_result"
    },
    {
     "data": {
      "image/png": "[encoded data removed]",
      "text/plain": [
       "<Figure size 640x480 with 1 Axes>"
      ]
     },
     "metadata": {},
     "output_type": "display_data"
    }
   ],
   "source": [
    "#Check for outliers\n",
    "ax = sns.boxplot(data=df)\n",
    "\n",
    "# Rotate the x-axis labels\n",
    "ax.xaxis.set_ticklabels(ax.xaxis.get_ticklabels(), rotation=90)"
   ]
  },
  {
   "cell_type": "code",
   "execution_count": 11,
   "id": "ee618163",
   "metadata": {},
   "outputs": [],
   "source": [
    "# Check for missing values\n",
    "missing_values = df.isnull().sum()"
   ]
  },
  {
   "cell_type": "code",
   "execution_count": 12,
   "id": "3b20e5a3",
   "metadata": {},
   "outputs": [
    {
     "name": "stdout",
     "output_type": "stream",
     "text": [
      "Name                          0\n",
      "Email_x                       0\n",
      "Age                           0\n",
      "Country                       0\n",
      "Email_y                       0\n",
      "Education Level               0\n",
      "Number of Languages Spoken    0\n",
      "Email_x.1                     0\n",
      "Gender                        0\n",
      "Satisfaction Rate             0\n",
      "Email_y.1                     0\n",
      "Marital Status                0\n",
      "Number of Children            0\n",
      "dtype: int64\n"
     ]
    }
   ],
   "source": [
    "# Display the count of missing values for each column\n",
    "print(missing_values)"
   ]
  },
  {
   "cell_type": "code",
   "execution_count": 13,
   "id": "e995e6cb",
   "metadata": {},
   "outputs": [],
   "source": [
    "# Select numeric columns\n",
    "numeric_columns = df.select_dtypes(include='number')"
   ]
  },
  {
   "cell_type": "code",
   "execution_count": 14,
   "id": "a6feb39c",
   "metadata": {},
   "outputs": [],
   "source": [
    "# Calculate the skewness for each numeric column\n",
    "skewness = numeric_columns.skew()"
   ]
  },
  {
   "cell_type": "code",
   "execution_count": 16,
   "id": "d853f3d1",
   "metadata": {},
   "outputs": [
    {
     "name": "stdout",
     "output_type": "stream",
     "text": [
      "Age                           0.071673\n",
      "Number of Languages Spoken    0.224759\n",
      "Satisfaction Rate            -0.178100\n",
      "Number of Children            0.330569\n",
      "dtype: float64\n"
     ]
    }
   ],
   "source": [
    "# Display the skewness values\n",
    "print(skewness)"
   ]
  },
  {
   "cell_type": "code",
   "execution_count": 17,
   "id": "c9dd8384",
   "metadata": {},
   "outputs": [
    {
     "data": {
      "image/png": "[encoded data removed]",
      "text/plain": [
       "<Figure size 800x600 with 1 Axes>"
      ]
     },
     "metadata": {},
     "output_type": "display_data"
    },
    {
     "data": {
      "image/png": "[encoded data removed]",
      "text/plain": [
       "<Figure size 800x600 with 1 Axes>"
      ]
     },
     "metadata": {},
     "output_type": "display_data"
    },
    {
     "data": {
      "image/png": "[encoded data removed]",
      "text/plain": [
       "<Figure size 800x600 with 1 Axes>"
      ]
     },
     "metadata": {},
     "output_type": "display_data"
    },
    {
     "data": {
      "image/png": "[encoded data removed]",
      "text/plain": [
       "<Figure size 800x600 with 1 Axes>"
      ]
     },
     "metadata": {},
     "output_type": "display_data"
    }
   ],
   "source": [
    "#### Iterate over each numeric column and plot histogram\n",
    "for column in numeric_columns:\n",
    "    plt.figure(figsize=(8, 6))\n",
    "    plt.hist(df[column], bins=30)\n",
    "    plt.xlabel(column)\n",
    "    plt.ylabel('Frequency')\n",
    "    plt.title(f'Histogram of {column} - Skewness: {round(df[column].skew(), 2)}')"
   ]
  },
  {
   "cell_type": "code",
   "execution_count": null,
   "id": "7294caa8",
   "metadata": {},
   "outputs": [],
   "source": []
  }
 ],
 "metadata": {
  "kernelspec": {
   "display_name": "Python 3 (ipykernel)",
   "language": "python",
   "name": "python3"
  },
  "language_info": {
   "codemirror_mode": {
    "name": "ipython",
    "version": 3
   },
   "file_extension": ".py",
   "mimetype": "text/x-python",
   "name": "python",
   "nbconvert_exporter": "python",
   "pygments_lexer": "ipython3",
   "version": "3.10.9"
  }
 },
 "nbformat": 4,
 "nbformat_minor": 5
}
