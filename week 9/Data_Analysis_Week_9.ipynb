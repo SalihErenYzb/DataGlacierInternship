{
 "cells": [
  {
   "cell_type": "code",
   "execution_count": 1,
   "id": "61a80824",
   "metadata": {},
   "outputs": [],
   "source": [
    "import os\n",
    "import pandas as pd\n",
    "import numpy as np\n",
    "import matplotlib.pyplot as plt\n",
    "import seaborn as sns\n",
    "%matplotlib inline\n",
    "import warnings\n",
    "import statsmodels.api as sm\n",
    "import plotly.express as px"
   ]
  },
  {
   "cell_type": "code",
   "execution_count": 5,
   "id": "a445f6d4",
   "metadata": {},
   "outputs": [],
   "source": [
    "#Read the master data\n",
    "df = pd.read_csv(\"C:/Users/ejot9/Clone1/Week_09/master_data.csv\")"
   ]
  },
  {
   "cell_type": "code",
   "execution_count": null,
   "id": "dee1be10",
   "metadata": {},
   "outputs": [],
   "source": [
    "# First 5 in our dataset\n",
    "df.head()"
   ]
  },
  {
   "cell_type": "code",
   "execution_count": null,
   "id": "b1b60246",
   "metadata": {},
   "outputs": [],
   "source": [
    "#Last 5 rows in our dataset\n",
    "df.tail()"
   ]
  },
  {
   "cell_type": "code",
   "execution_count": 12,
   "id": "6b862962",
   "metadata": {},
   "outputs": [
    {
     "name": "stdout",
     "output_type": "stream",
     "text": [
      "<class 'pandas.core.frame.DataFrame'>\n",
      "RangeIndex: 87 entries, 0 to 86\n",
      "Data columns (total 13 columns):\n",
      " #   Column                      Non-Null Count  Dtype \n",
      "---  ------                      --------------  ----- \n",
      " 0   Name                        87 non-null     object\n",
      " 1   Email_x                     87 non-null     object\n",
      " 2   Age                         87 non-null     int64 \n",
      " 3   Country                     87 non-null     object\n",
      " 4   Email_y                     87 non-null     object\n",
      " 5   Education Level             87 non-null     object\n",
      " 6   Number of Languages Spoken  87 non-null     int64 \n",
      " 7   Email_x.1                   87 non-null     object\n",
      " 8   Gender                      87 non-null     object\n",
      " 9   Satisfaction Rate           87 non-null     int64 \n",
      " 10  Email_y.1                   87 non-null     object\n",
      " 11  Marital Status              87 non-null     object\n",
      " 12  Number of Children          87 non-null     int64 \n",
      "dtypes: int64(4), object(9)\n",
      "memory usage: 9.0+ KB\n"
     ]
    }
   ],
   "source": [
    "#Master Data General information \n",
    "df.info()"
   ]
  },
  {
   "cell_type": "code",
   "execution_count": 14,
   "id": "5d438f8c",
   "metadata": {},
   "outputs": [
    {
     "data": {
      "text/html": [
       "<div>\n",
       "<style scoped>\n",
       "    .dataframe tbody tr th:only-of-type {\n",
       "        vertical-align: middle;\n",
       "    }\n",
       "\n",
       "    .dataframe tbody tr th {\n",
       "        vertical-align: top;\n",
       "    }\n",
       "\n",
       "    .dataframe thead th {\n",
       "        text-align: right;\n",
       "    }\n",
       "</style>\n",
       "<table border=\"1\" class=\"dataframe\">\n",
       "  <thead>\n",
       "    <tr style=\"text-align: right;\">\n",
       "      <th></th>\n",
       "      <th>Age</th>\n",
       "      <th>Number of Languages Spoken</th>\n",
       "      <th>Satisfaction Rate</th>\n",
       "      <th>Number of Children</th>\n",
       "    </tr>\n",
       "  </thead>\n",
       "  <tbody>\n",
       "    <tr>\n",
       "      <th>Age</th>\n",
       "      <td>1.000000</td>\n",
       "      <td>0.125291</td>\n",
       "      <td>0.071077</td>\n",
       "      <td>-0.081498</td>\n",
       "    </tr>\n",
       "    <tr>\n",
       "      <th>Number of Languages Spoken</th>\n",
       "      <td>0.125291</td>\n",
       "      <td>1.000000</td>\n",
       "      <td>-0.090605</td>\n",
       "      <td>-0.074881</td>\n",
       "    </tr>\n",
       "    <tr>\n",
       "      <th>Satisfaction Rate</th>\n",
       "      <td>0.071077</td>\n",
       "      <td>-0.090605</td>\n",
       "      <td>1.000000</td>\n",
       "      <td>-0.035048</td>\n",
       "    </tr>\n",
       "    <tr>\n",
       "      <th>Number of Children</th>\n",
       "      <td>-0.081498</td>\n",
       "      <td>-0.074881</td>\n",
       "      <td>-0.035048</td>\n",
       "      <td>1.000000</td>\n",
       "    </tr>\n",
       "  </tbody>\n",
       "</table>\n",
       "</div>"
      ],
      "text/plain": [
       "                                 Age  Number of Languages Spoken  \\\n",
       "Age                         1.000000                    0.125291   \n",
       "Number of Languages Spoken  0.125291                    1.000000   \n",
       "Satisfaction Rate           0.071077                   -0.090605   \n",
       "Number of Children         -0.081498                   -0.074881   \n",
       "\n",
       "                            Satisfaction Rate  Number of Children  \n",
       "Age                                  0.071077           -0.081498  \n",
       "Number of Languages Spoken          -0.090605           -0.074881  \n",
       "Satisfaction Rate                    1.000000           -0.035048  \n",
       "Number of Children                  -0.035048            1.000000  "
      ]
     },
     "execution_count": 14,
     "metadata": {},
     "output_type": "execute_result"
    }
   ],
   "source": [
    "#Correlation between numerical columns\n",
    "df.corr(numeric_only=True)"
   ]
  },
  {
   "cell_type": "code",
   "execution_count": 15,
   "id": "c0fb6ccb",
   "metadata": {},
   "outputs": [
    {
     "data": {
      "text/plain": [
       "1131"
      ]
     },
     "execution_count": 15,
     "metadata": {},
     "output_type": "execute_result"
    }
   ],
   "source": [
    "#Size of Data\n",
    "df.size"
   ]
  },
  {
   "cell_type": "code",
   "execution_count": 16,
   "id": "e358ea37",
   "metadata": {},
   "outputs": [],
   "source": [
    "#Import columns for duplication test\n",
    "duplicates = df.duplicated()"
   ]
  },
  {
   "cell_type": "code",
   "execution_count": 17,
   "id": "6c50d1f0",
   "metadata": {},
   "outputs": [
    {
     "name": "stdout",
     "output_type": "stream",
     "text": [
      "Empty DataFrame\n",
      "Columns: [Name, Email_x, Age, Country, Email_y, Education Level, Number of Languages Spoken, Email_x.1, Gender, Satisfaction Rate, Email_y.1, Marital Status, Number of Children]\n",
      "Index: []\n"
     ]
    }
   ],
   "source": [
    "# Check for Duplicates\n",
    "duplicate_rows = df[duplicates]\n",
    "print(duplicate_rows)"
   ]
  },
  {
   "cell_type": "code",
   "execution_count": 18,
   "id": "879e1473",
   "metadata": {},
   "outputs": [
    {
     "data": {
      "text/plain": [
       "[Text(0, 0, 'Age'),\n",
       " Text(1, 0, 'Number of Languages Spoken'),\n",
       " Text(2, 0, 'Satisfaction Rate'),\n",
       " Text(3, 0, 'Number of Children')]"
      ]
     },
     "execution_count": 18,
     "metadata": {},
     "output_type": "execute_result"
    },
    {
     "data": {
      "image/png": "[encoded data removed]",
      "text/plain": [
       "<Figure size 640x480 with 1 Axes>"
      ]
     },
     "metadata": {},
     "output_type": "display_data"
    }
   ],
   "source": [
    "#Check for outliers\n",
    "ax = sns.boxplot(data=df)\n",
    "\n",
    "# Rotate the x-axis labels\n",
    "ax.xaxis.set_ticklabels(ax.xaxis.get_ticklabels(), rotation=90)"
   ]
  },
  {
   "cell_type": "code",
   "execution_count": 19,
   "id": "ee618163",
   "metadata": {},
   "outputs": [],
   "source": [
    "# Check for missing values\n",
    "missing_values = df.isnull().sum()"
   ]
  },
  {
   "cell_type": "code",
   "execution_count": 20,
   "id": "3b20e5a3",
   "metadata": {},
   "outputs": [
    {
     "name": "stdout",
     "output_type": "stream",
     "text": [
      "Name                          0\n",
      "Email_x                       0\n",
      "Age                           0\n",
      "Country                       0\n",
      "Email_y                       0\n",
      "Education Level               0\n",
      "Number of Languages Spoken    0\n",
      "Email_x.1                     0\n",
      "Gender                        0\n",
      "Satisfaction Rate             0\n",
      "Email_y.1                     0\n",
      "Marital Status                0\n",
      "Number of Children            0\n",
      "dtype: int64\n"
     ]
    }
   ],
   "source": [
    "# Display the count of missing values for each column\n",
    "print(missing_values)"
   ]
  },
  {
   "cell_type": "code",
   "execution_count": 21,
   "id": "e995e6cb",
   "metadata": {},
   "outputs": [],
   "source": [
    "# Select numeric columns\n",
    "numeric_columns = df.select_dtypes(include='number')"
   ]
  },
  {
   "cell_type": "code",
   "execution_count": 22,
   "id": "a6feb39c",
   "metadata": {},
   "outputs": [],
   "source": [
    "# Calculate the skewness for each numeric column\n",
    "skewness = numeric_columns.skew()"
   ]
  },
  {
   "cell_type": "code",
   "execution_count": 23,
   "id": "d853f3d1",
   "metadata": {},
   "outputs": [
    {
     "name": "stdout",
     "output_type": "stream",
     "text": [
      "Age                           0.071673\n",
      "Number of Languages Spoken    0.224759\n",
      "Satisfaction Rate            -0.178100\n",
      "Number of Children            0.330569\n",
      "dtype: float64\n"
     ]
    }
   ],
   "source": [
    "# Display the skewness values\n",
    "print(skewness)"
   ]
  },
  {
   "cell_type": "code",
   "execution_count": 24,
   "id": "c9dd8384",
   "metadata": {},
   "outputs": [
    {
     "data": {
      "image/png": "[encoded data removed]",
      "text/plain": [
       "<Figure size 800x600 with 1 Axes>"
      ]
     },
     "metadata": {},
     "output_type": "display_data"
    },
    {
     "data": {
      "image/png": "[encoded data removed]",
      "text/plain": [
       "<Figure size 800x600 with 1 Axes>"
      ]
     },
     "metadata": {},
     "output_type": "display_data"
    },
    {
     "data": {
      "image/png": "[encoded data removed]",
      "text/plain": [
       "<Figure size 800x600 with 1 Axes>"
      ]
     },
     "metadata": {},
     "output_type": "display_data"
    },
    {
     "data": {
      "image/png": "[encoded data removed]",
      "text/plain": [
       "<Figure size 800x600 with 1 Axes>"
      ]
     },
     "metadata": {},
     "output_type": "display_data"
    }
   ],
   "source": [
    "#### Iterate over each numeric column and plot histogram\n",
    "for column in numeric_columns:\n",
    "    plt.figure(figsize=(8, 6))\n",
    "    plt.hist(df[column], bins=30)\n",
    "    plt.xlabel(column)\n",
    "    plt.ylabel('Frequency')\n",
    "    plt.title(f'Histogram of {column} - Skewness: {round(df[column].skew(), 2)}')"
   ]
  },
  {
   "cell_type": "code",
   "execution_count": 25,
   "id": "7294caa8",
   "metadata": {},
   "outputs": [
    {
     "name": "stdout",
     "output_type": "stream",
     "text": [
      "             Name                   Email_x  Age         Country  \\\n",
      "0    Landon Patel     landonpatel@gmail.com   32   United States   \n",
      "1  Cassidy Turner   cassidyturner@yahoo.com   24          Canada   \n",
      "2    Axl Thompson  axl.thompson@hotmail.com   43   United States   \n",
      "3      Ivy Wilson       ivywilson@gmail.com   58  United Kingdom   \n",
      "4     Reece Scott   reece.scott@outlook.com   26       Australia   \n",
      "\n",
      "                    Email_y    Education Level  Number of Languages Spoken  \\\n",
      "0     landonpatel@gmail.com  Bachelor's Degree                           2   \n",
      "1   cassidyturner@yahoo.com    Master's Degree                           1   \n",
      "2  axl.thompson@hotmail.com        High School                           3   \n",
      "3       ivywilson@gmail.com  Bachelor's Degree                           4   \n",
      "4   reece.scott@outlook.com          Doctorate                           4   \n",
      "\n",
      "                  Email_x.1      Gender  Satisfaction Rate  \\\n",
      "0     landonpatel@gmail.com        Male                  8   \n",
      "1   cassidyturner@yahoo.com  Non-binary                  9   \n",
      "2  axl.thompson@hotmail.com        Male                  7   \n",
      "3       ivywilson@gmail.com      Female                  6   \n",
      "4   reece.scott@outlook.com        Male                  4   \n",
      "\n",
      "                  Email_y.1 Marital Status  Number of Children  \n",
      "0     landonpatel@gmail.com         Single                   3  \n",
      "1   cassidyturner@yahoo.com        Married                   4  \n",
      "2  axl.thompson@hotmail.com         Single                   1  \n",
      "3       ivywilson@gmail.com       Divorced                   0  \n",
      "4   reece.scott@outlook.com        Married                   2  \n"
     ]
    }
   ],
   "source": [
    "   \n",
    "    \n",
    "    \n",
    "from scipy.stats.mstats import winsorize\n",
    "# Apply winsorizing to the Age column\n",
    "winsorized_df = df.copy()\n",
    "\n",
    "# Get a list of numeric columns\n",
    "numeric_cols = winsorized_df.select_dtypes(include=['int64', 'float64']).columns.tolist()\n",
    "\n",
    "# Apply winsorizing to all numeric columns\n",
    "for col in numeric_cols:\n",
    "    winsorized_df[col] = winsorize(winsorized_df[col], limits=[0.05, 0.05]).data\n",
    "\n",
    "# Print the updated DataFrame\n",
    "print(winsorized_df.head())\n",
    "\n"
   ]
  },
  {
   "cell_type": "code",
   "execution_count": 26,
   "id": "8a08c8a2",
   "metadata": {},
   "outputs": [
    {
     "name": "stdout",
     "output_type": "stream",
     "text": [
      "Number of different rows: 10\n",
      "Differences:\n",
      "      Age       Number of Children      \n",
      "    self other               self other\n",
      "9    NaN   NaN                5.0   4.0\n",
      "13   NaN   NaN                5.0   4.0\n",
      "23  19.0  20.0                NaN   NaN\n",
      "25   NaN   NaN                5.0   4.0\n",
      "39  18.0  20.0                NaN   NaN\n",
      "41  65.0  61.0                NaN   NaN\n",
      "46  62.0  61.0                NaN   NaN\n",
      "61  63.0  61.0                NaN   NaN\n",
      "70  19.0  20.0                NaN   NaN\n",
      "85  63.0  61.0                NaN   NaN\n"
     ]
    }
   ],
   "source": [
    "# Compare the two DataFrames\n",
    "diff = df.compare(winsorized_df)\n",
    "\n",
    "# Print the number of different rows\n",
    "print(\"Number of different rows:\", len(diff))\n",
    "\n",
    "# Print the differences\n",
    "print(\"Differences:\\n\", diff)"
   ]
  },
  {
   "cell_type": "code",
   "execution_count": 27,
   "id": "e2ee6c37",
   "metadata": {},
   "outputs": [
    {
     "data": {
      "text/html": [
       "<div>\n",
       "<style scoped>\n",
       "    .dataframe tbody tr th:only-of-type {\n",
       "        vertical-align: middle;\n",
       "    }\n",
       "\n",
       "    .dataframe tbody tr th {\n",
       "        vertical-align: top;\n",
       "    }\n",
       "\n",
       "    .dataframe thead th {\n",
       "        text-align: right;\n",
       "    }\n",
       "</style>\n",
       "<table border=\"1\" class=\"dataframe\">\n",
       "  <thead>\n",
       "    <tr style=\"text-align: right;\">\n",
       "      <th></th>\n",
       "      <th>Name</th>\n",
       "      <th>Email_x</th>\n",
       "      <th>Age</th>\n",
       "      <th>Country</th>\n",
       "      <th>Email_y</th>\n",
       "      <th>Education Level</th>\n",
       "      <th>Number of Languages Spoken</th>\n",
       "      <th>Email_x.1</th>\n",
       "      <th>Gender</th>\n",
       "      <th>Satisfaction Rate</th>\n",
       "      <th>Email_y.1</th>\n",
       "      <th>Marital Status</th>\n",
       "      <th>Number of Children</th>\n",
       "    </tr>\n",
       "  </thead>\n",
       "  <tbody>\n",
       "    <tr>\n",
       "      <th>0</th>\n",
       "      <td>Landon Patel</td>\n",
       "      <td>landonpatel@gmail.com</td>\n",
       "      <td>32</td>\n",
       "      <td>United States</td>\n",
       "      <td>landonpatel@gmail.com</td>\n",
       "      <td>Bachelor's Degree</td>\n",
       "      <td>2</td>\n",
       "      <td>landonpatel@gmail.com</td>\n",
       "      <td>Male</td>\n",
       "      <td>8</td>\n",
       "      <td>landonpatel@gmail.com</td>\n",
       "      <td>Single</td>\n",
       "      <td>3</td>\n",
       "    </tr>\n",
       "    <tr>\n",
       "      <th>1</th>\n",
       "      <td>Cassidy Turner</td>\n",
       "      <td>cassidyturner@yahoo.com</td>\n",
       "      <td>24</td>\n",
       "      <td>Canada</td>\n",
       "      <td>cassidyturner@yahoo.com</td>\n",
       "      <td>Master's Degree</td>\n",
       "      <td>1</td>\n",
       "      <td>cassidyturner@yahoo.com</td>\n",
       "      <td>Non-binary</td>\n",
       "      <td>9</td>\n",
       "      <td>cassidyturner@yahoo.com</td>\n",
       "      <td>Married</td>\n",
       "      <td>4</td>\n",
       "    </tr>\n",
       "    <tr>\n",
       "      <th>2</th>\n",
       "      <td>Axl Thompson</td>\n",
       "      <td>axl.thompson@hotmail.com</td>\n",
       "      <td>43</td>\n",
       "      <td>United States</td>\n",
       "      <td>axl.thompson@hotmail.com</td>\n",
       "      <td>High School</td>\n",
       "      <td>3</td>\n",
       "      <td>axl.thompson@hotmail.com</td>\n",
       "      <td>Male</td>\n",
       "      <td>7</td>\n",
       "      <td>axl.thompson@hotmail.com</td>\n",
       "      <td>Single</td>\n",
       "      <td>1</td>\n",
       "    </tr>\n",
       "    <tr>\n",
       "      <th>3</th>\n",
       "      <td>Ivy Wilson</td>\n",
       "      <td>ivywilson@gmail.com</td>\n",
       "      <td>58</td>\n",
       "      <td>United Kingdom</td>\n",
       "      <td>ivywilson@gmail.com</td>\n",
       "      <td>Bachelor's Degree</td>\n",
       "      <td>4</td>\n",
       "      <td>ivywilson@gmail.com</td>\n",
       "      <td>Female</td>\n",
       "      <td>6</td>\n",
       "      <td>ivywilson@gmail.com</td>\n",
       "      <td>Divorced</td>\n",
       "      <td>0</td>\n",
       "    </tr>\n",
       "    <tr>\n",
       "      <th>4</th>\n",
       "      <td>Reece Scott</td>\n",
       "      <td>reece.scott@outlook.com</td>\n",
       "      <td>26</td>\n",
       "      <td>Australia</td>\n",
       "      <td>reece.scott@outlook.com</td>\n",
       "      <td>Doctorate</td>\n",
       "      <td>4</td>\n",
       "      <td>reece.scott@outlook.com</td>\n",
       "      <td>Male</td>\n",
       "      <td>4</td>\n",
       "      <td>reece.scott@outlook.com</td>\n",
       "      <td>Married</td>\n",
       "      <td>2</td>\n",
       "    </tr>\n",
       "    <tr>\n",
       "      <th>...</th>\n",
       "      <td>...</td>\n",
       "      <td>...</td>\n",
       "      <td>...</td>\n",
       "      <td>...</td>\n",
       "      <td>...</td>\n",
       "      <td>...</td>\n",
       "      <td>...</td>\n",
       "      <td>...</td>\n",
       "      <td>...</td>\n",
       "      <td>...</td>\n",
       "      <td>...</td>\n",
       "      <td>...</td>\n",
       "      <td>...</td>\n",
       "    </tr>\n",
       "    <tr>\n",
       "      <th>75</th>\n",
       "      <td>Jocelyn Adams</td>\n",
       "      <td>jocelyn_adams@hotmail.com</td>\n",
       "      <td>35</td>\n",
       "      <td>Australia</td>\n",
       "      <td>jocelyn_adams@hotmail.com</td>\n",
       "      <td>High School</td>\n",
       "      <td>3</td>\n",
       "      <td>jocelyn_adams@hotmail.com</td>\n",
       "      <td>Female</td>\n",
       "      <td>1</td>\n",
       "      <td>jocelyn_adams@hotmail.com</td>\n",
       "      <td>Single</td>\n",
       "      <td>0</td>\n",
       "    </tr>\n",
       "    <tr>\n",
       "      <th>76</th>\n",
       "      <td>Kylan Lee</td>\n",
       "      <td>kylan_lee@gmail.com</td>\n",
       "      <td>50</td>\n",
       "      <td>United States</td>\n",
       "      <td>kylan_lee@gmail.com</td>\n",
       "      <td>Master's Degree</td>\n",
       "      <td>2</td>\n",
       "      <td>kylan_lee@gmail.com</td>\n",
       "      <td>Male</td>\n",
       "      <td>5</td>\n",
       "      <td>kylan_lee@gmail.com</td>\n",
       "      <td>Married</td>\n",
       "      <td>1</td>\n",
       "    </tr>\n",
       "    <tr>\n",
       "      <th>77</th>\n",
       "      <td>Lennon Wilson</td>\n",
       "      <td>lennon_wilson@yahoo.com</td>\n",
       "      <td>25</td>\n",
       "      <td>Canada</td>\n",
       "      <td>lennon_wilson@yahoo.com</td>\n",
       "      <td>Doctorate</td>\n",
       "      <td>3</td>\n",
       "      <td>lennon_wilson@yahoo.com</td>\n",
       "      <td>Male</td>\n",
       "      <td>9</td>\n",
       "      <td>lennon_wilson@yahoo.com</td>\n",
       "      <td>Divorced</td>\n",
       "      <td>2</td>\n",
       "    </tr>\n",
       "    <tr>\n",
       "      <th>78</th>\n",
       "      <td>Macy Hernandez</td>\n",
       "      <td>macy.hernandez@hotmail.com</td>\n",
       "      <td>39</td>\n",
       "      <td>Mexico</td>\n",
       "      <td>macy.hernandez@hotmail.com</td>\n",
       "      <td>Bachelor's Degree</td>\n",
       "      <td>1</td>\n",
       "      <td>macy.hernandez@hotmail.com</td>\n",
       "      <td>Female</td>\n",
       "      <td>4</td>\n",
       "      <td>macy.hernandez@hotmail.com</td>\n",
       "      <td>Married</td>\n",
       "      <td>3</td>\n",
       "    </tr>\n",
       "    <tr>\n",
       "      <th>79</th>\n",
       "      <td>Jordy Thompson</td>\n",
       "      <td>jordy_thompson@gmail.com</td>\n",
       "      <td>30</td>\n",
       "      <td>United States</td>\n",
       "      <td>jordy_thompson@gmail.com</td>\n",
       "      <td>High School</td>\n",
       "      <td>1</td>\n",
       "      <td>jordy_thompson@gmail.com</td>\n",
       "      <td>Male</td>\n",
       "      <td>3</td>\n",
       "      <td>jordy_thompson@gmail.com</td>\n",
       "      <td>Single</td>\n",
       "      <td>0</td>\n",
       "    </tr>\n",
       "  </tbody>\n",
       "</table>\n",
       "<p>80 rows × 13 columns</p>\n",
       "</div>"
      ],
      "text/plain": [
       "              Name                     Email_x  Age         Country  \\\n",
       "0     Landon Patel       landonpatel@gmail.com   32   United States   \n",
       "1   Cassidy Turner     cassidyturner@yahoo.com   24          Canada   \n",
       "2     Axl Thompson    axl.thompson@hotmail.com   43   United States   \n",
       "3       Ivy Wilson         ivywilson@gmail.com   58  United Kingdom   \n",
       "4      Reece Scott     reece.scott@outlook.com   26       Australia   \n",
       "..             ...                         ...  ...             ...   \n",
       "75   Jocelyn Adams   jocelyn_adams@hotmail.com   35       Australia   \n",
       "76       Kylan Lee         kylan_lee@gmail.com   50   United States   \n",
       "77   Lennon Wilson     lennon_wilson@yahoo.com   25          Canada   \n",
       "78  Macy Hernandez  macy.hernandez@hotmail.com   39          Mexico   \n",
       "79  Jordy Thompson    jordy_thompson@gmail.com   30   United States   \n",
       "\n",
       "                       Email_y    Education Level  Number of Languages Spoken  \\\n",
       "0        landonpatel@gmail.com  Bachelor's Degree                           2   \n",
       "1      cassidyturner@yahoo.com    Master's Degree                           1   \n",
       "2     axl.thompson@hotmail.com        High School                           3   \n",
       "3          ivywilson@gmail.com  Bachelor's Degree                           4   \n",
       "4      reece.scott@outlook.com          Doctorate                           4   \n",
       "..                         ...                ...                         ...   \n",
       "75   jocelyn_adams@hotmail.com        High School                           3   \n",
       "76         kylan_lee@gmail.com    Master's Degree                           2   \n",
       "77     lennon_wilson@yahoo.com          Doctorate                           3   \n",
       "78  macy.hernandez@hotmail.com  Bachelor's Degree                           1   \n",
       "79    jordy_thompson@gmail.com        High School                           1   \n",
       "\n",
       "                     Email_x.1      Gender  Satisfaction Rate  \\\n",
       "0        landonpatel@gmail.com        Male                  8   \n",
       "1      cassidyturner@yahoo.com  Non-binary                  9   \n",
       "2     axl.thompson@hotmail.com        Male                  7   \n",
       "3          ivywilson@gmail.com      Female                  6   \n",
       "4      reece.scott@outlook.com        Male                  4   \n",
       "..                         ...         ...                ...   \n",
       "75   jocelyn_adams@hotmail.com      Female                  1   \n",
       "76         kylan_lee@gmail.com        Male                  5   \n",
       "77     lennon_wilson@yahoo.com        Male                  9   \n",
       "78  macy.hernandez@hotmail.com      Female                  4   \n",
       "79    jordy_thompson@gmail.com        Male                  3   \n",
       "\n",
       "                     Email_y.1 Marital Status  Number of Children  \n",
       "0        landonpatel@gmail.com         Single                   3  \n",
       "1      cassidyturner@yahoo.com        Married                   4  \n",
       "2     axl.thompson@hotmail.com         Single                   1  \n",
       "3          ivywilson@gmail.com       Divorced                   0  \n",
       "4      reece.scott@outlook.com        Married                   2  \n",
       "..                         ...            ...                 ...  \n",
       "75   jocelyn_adams@hotmail.com         Single                   0  \n",
       "76         kylan_lee@gmail.com        Married                   1  \n",
       "77     lennon_wilson@yahoo.com       Divorced                   2  \n",
       "78  macy.hernandez@hotmail.com        Married                   3  \n",
       "79    jordy_thompson@gmail.com         Single                   0  \n",
       "\n",
       "[80 rows x 13 columns]"
      ]
     },
     "execution_count": 27,
     "metadata": {},
     "output_type": "execute_result"
    }
   ],
   "source": [
    "winsorized_df.head(80)"
   ]
  },
  {
   "cell_type": "code",
   "execution_count": 29,
   "id": "ffa965cc",
   "metadata": {},
   "outputs": [],
   "source": [
    "winsorized_df = winsorized_df.dropna()"
   ]
  },
  {
   "cell_type": "code",
   "execution_count": 34,
   "id": "75c1d05a-411e-4695-9348-38c183d50659",
   "metadata": {},
   "outputs": [
    {
     "name": "stdout",
     "output_type": "stream",
     "text": [
      "Email_x and Email_y are identical.\n",
      "Email_x and Email_x.1 are identical.\n",
      "Email_x and Email_y.1 are identical.\n",
      "Email_y and Email_x.1 are identical.\n",
      "Email_y and Email_y.1 are identical.\n",
      "Email_x.1 and Email_y.1 are identical.\n"
     ]
    }
   ],
   "source": [
    "# Find and print identical columns\n",
    "identical_columns = []\n",
    "columns = winsorized_df.columns\n",
    "\n",
    "for i in range(len(columns)-1):\n",
    "    for j in range(i+1, len(columns)):\n",
    "        if df[columns[i]].equals(df[columns[j]]):\n",
    "            # Print the information\n",
    "            print(f\"{columns[i]} and {columns[j]} are identical.\")\n",
    "            \n",
    "            # Append collumns to the list \n",
    "            identical_columns.append(columns[j])\n",
    "\n"
   ]
  },
  {
   "cell_type": "code",
   "execution_count": 35,
   "id": "5289d75e-734f-4895-a44e-9e9f85720175",
   "metadata": {},
   "outputs": [
    {
     "data": {
      "text/plain": [
       "Index(['Name', 'Email_x', 'Age', 'Country', 'Education Level',\n",
       "       'Number of Languages Spoken', 'Gender', 'Satisfaction Rate',\n",
       "       'Marital Status', 'Number of Children'],\n",
       "      dtype='object')"
      ]
     },
     "execution_count": 35,
     "metadata": {},
     "output_type": "execute_result"
    }
   ],
   "source": [
    "# Drop identical columns from DataFrame\n",
    "winsorized_df.drop(identical_columns, axis=1, inplace=True)\n",
    "winsorized_df.columns"
   ]
  },
  {
   "cell_type": "code",
   "execution_count": 36,
   "id": "3d685321-e632-49d0-b7e4-d1e72ca4fa26",
   "metadata": {
    "scrolled": true
   },
   "outputs": [
    {
     "data": {
      "text/html": [
       "<div>\n",
       "<style scoped>\n",
       "    .dataframe tbody tr th:only-of-type {\n",
       "        vertical-align: middle;\n",
       "    }\n",
       "\n",
       "    .dataframe tbody tr th {\n",
       "        vertical-align: top;\n",
       "    }\n",
       "\n",
       "    .dataframe thead th {\n",
       "        text-align: right;\n",
       "    }\n",
       "</style>\n",
       "<table border=\"1\" class=\"dataframe\">\n",
       "  <thead>\n",
       "    <tr style=\"text-align: right;\">\n",
       "      <th></th>\n",
       "      <th>Name</th>\n",
       "      <th>Email</th>\n",
       "      <th>Age</th>\n",
       "      <th>Country</th>\n",
       "      <th>Education Level</th>\n",
       "      <th>Number of Languages Spoken</th>\n",
       "      <th>Gender</th>\n",
       "      <th>Satisfaction Rate</th>\n",
       "      <th>Marital Status</th>\n",
       "      <th>Number of Children</th>\n",
       "    </tr>\n",
       "  </thead>\n",
       "  <tbody>\n",
       "    <tr>\n",
       "      <th>0</th>\n",
       "      <td>Landon Patel</td>\n",
       "      <td>landonpatel@gmail.com</td>\n",
       "      <td>32</td>\n",
       "      <td>United States</td>\n",
       "      <td>Bachelor's Degree</td>\n",
       "      <td>2</td>\n",
       "      <td>Male</td>\n",
       "      <td>8</td>\n",
       "      <td>Single</td>\n",
       "      <td>3</td>\n",
       "    </tr>\n",
       "    <tr>\n",
       "      <th>1</th>\n",
       "      <td>Cassidy Turner</td>\n",
       "      <td>cassidyturner@yahoo.com</td>\n",
       "      <td>24</td>\n",
       "      <td>Canada</td>\n",
       "      <td>Master's Degree</td>\n",
       "      <td>1</td>\n",
       "      <td>Non-binary</td>\n",
       "      <td>9</td>\n",
       "      <td>Married</td>\n",
       "      <td>4</td>\n",
       "    </tr>\n",
       "    <tr>\n",
       "      <th>2</th>\n",
       "      <td>Axl Thompson</td>\n",
       "      <td>axl.thompson@hotmail.com</td>\n",
       "      <td>43</td>\n",
       "      <td>United States</td>\n",
       "      <td>High School</td>\n",
       "      <td>3</td>\n",
       "      <td>Male</td>\n",
       "      <td>7</td>\n",
       "      <td>Single</td>\n",
       "      <td>1</td>\n",
       "    </tr>\n",
       "    <tr>\n",
       "      <th>3</th>\n",
       "      <td>Ivy Wilson</td>\n",
       "      <td>ivywilson@gmail.com</td>\n",
       "      <td>58</td>\n",
       "      <td>United Kingdom</td>\n",
       "      <td>Bachelor's Degree</td>\n",
       "      <td>4</td>\n",
       "      <td>Female</td>\n",
       "      <td>6</td>\n",
       "      <td>Divorced</td>\n",
       "      <td>0</td>\n",
       "    </tr>\n",
       "    <tr>\n",
       "      <th>4</th>\n",
       "      <td>Reece Scott</td>\n",
       "      <td>reece.scott@outlook.com</td>\n",
       "      <td>26</td>\n",
       "      <td>Australia</td>\n",
       "      <td>Doctorate</td>\n",
       "      <td>4</td>\n",
       "      <td>Male</td>\n",
       "      <td>4</td>\n",
       "      <td>Married</td>\n",
       "      <td>2</td>\n",
       "    </tr>\n",
       "    <tr>\n",
       "      <th>...</th>\n",
       "      <td>...</td>\n",
       "      <td>...</td>\n",
       "      <td>...</td>\n",
       "      <td>...</td>\n",
       "      <td>...</td>\n",
       "      <td>...</td>\n",
       "      <td>...</td>\n",
       "      <td>...</td>\n",
       "      <td>...</td>\n",
       "      <td>...</td>\n",
       "    </tr>\n",
       "    <tr>\n",
       "      <th>82</th>\n",
       "      <td>Ryann Davis</td>\n",
       "      <td>ryann.davis@gmail.com</td>\n",
       "      <td>24</td>\n",
       "      <td>Canada</td>\n",
       "      <td>Bachelor's Degree</td>\n",
       "      <td>1</td>\n",
       "      <td>Female</td>\n",
       "      <td>10</td>\n",
       "      <td>Single</td>\n",
       "      <td>0</td>\n",
       "    </tr>\n",
       "    <tr>\n",
       "      <th>83</th>\n",
       "      <td>Lara Johnson</td>\n",
       "      <td>lara.johnson@yahoo.com</td>\n",
       "      <td>54</td>\n",
       "      <td>United States</td>\n",
       "      <td>Master's Degree</td>\n",
       "      <td>3</td>\n",
       "      <td>Female</td>\n",
       "      <td>3</td>\n",
       "      <td>Married</td>\n",
       "      <td>2</td>\n",
       "    </tr>\n",
       "    <tr>\n",
       "      <th>84</th>\n",
       "      <td>Paislee King</td>\n",
       "      <td>paislee_king@hotmail.com</td>\n",
       "      <td>61</td>\n",
       "      <td>United Kingdom</td>\n",
       "      <td>High School</td>\n",
       "      <td>1</td>\n",
       "      <td>Female</td>\n",
       "      <td>4</td>\n",
       "      <td>Single</td>\n",
       "      <td>1</td>\n",
       "    </tr>\n",
       "    <tr>\n",
       "      <th>85</th>\n",
       "      <td>Kole Scott</td>\n",
       "      <td>kole_scott@gmail.com</td>\n",
       "      <td>61</td>\n",
       "      <td>Australia</td>\n",
       "      <td>Bachelor's Degree</td>\n",
       "      <td>4</td>\n",
       "      <td>Male</td>\n",
       "      <td>8</td>\n",
       "      <td>Married</td>\n",
       "      <td>3</td>\n",
       "    </tr>\n",
       "    <tr>\n",
       "      <th>86</th>\n",
       "      <td>Alaia Taylor</td>\n",
       "      <td>alaia_taylor@yahoo.com</td>\n",
       "      <td>23</td>\n",
       "      <td>United States</td>\n",
       "      <td>Doctorate</td>\n",
       "      <td>2</td>\n",
       "      <td>Female</td>\n",
       "      <td>2</td>\n",
       "      <td>Married</td>\n",
       "      <td>4</td>\n",
       "    </tr>\n",
       "  </tbody>\n",
       "</table>\n",
       "<p>87 rows × 10 columns</p>\n",
       "</div>"
      ],
      "text/plain": [
       "              Name                     Email  Age         Country  \\\n",
       "0     Landon Patel     landonpatel@gmail.com   32   United States   \n",
       "1   Cassidy Turner   cassidyturner@yahoo.com   24          Canada   \n",
       "2     Axl Thompson  axl.thompson@hotmail.com   43   United States   \n",
       "3       Ivy Wilson       ivywilson@gmail.com   58  United Kingdom   \n",
       "4      Reece Scott   reece.scott@outlook.com   26       Australia   \n",
       "..             ...                       ...  ...             ...   \n",
       "82     Ryann Davis     ryann.davis@gmail.com   24          Canada   \n",
       "83    Lara Johnson    lara.johnson@yahoo.com   54   United States   \n",
       "84    Paislee King  paislee_king@hotmail.com   61  United Kingdom   \n",
       "85      Kole Scott      kole_scott@gmail.com   61       Australia   \n",
       "86    Alaia Taylor    alaia_taylor@yahoo.com   23   United States   \n",
       "\n",
       "      Education Level  Number of Languages Spoken      Gender  \\\n",
       "0   Bachelor's Degree                           2        Male   \n",
       "1     Master's Degree                           1  Non-binary   \n",
       "2         High School                           3        Male   \n",
       "3   Bachelor's Degree                           4      Female   \n",
       "4           Doctorate                           4        Male   \n",
       "..                ...                         ...         ...   \n",
       "82  Bachelor's Degree                           1      Female   \n",
       "83    Master's Degree                           3      Female   \n",
       "84        High School                           1      Female   \n",
       "85  Bachelor's Degree                           4        Male   \n",
       "86          Doctorate                           2      Female   \n",
       "\n",
       "    Satisfaction Rate Marital Status  Number of Children  \n",
       "0                   8         Single                   3  \n",
       "1                   9        Married                   4  \n",
       "2                   7         Single                   1  \n",
       "3                   6       Divorced                   0  \n",
       "4                   4        Married                   2  \n",
       "..                ...            ...                 ...  \n",
       "82                 10         Single                   0  \n",
       "83                  3        Married                   2  \n",
       "84                  4         Single                   1  \n",
       "85                  8        Married                   3  \n",
       "86                  2        Married                   4  \n",
       "\n",
       "[87 rows x 10 columns]"
      ]
     },
     "execution_count": 36,
     "metadata": {},
     "output_type": "execute_result"
    }
   ],
   "source": [
    "# Change the column name\n",
    "winsorized_df.rename({'Email_x':'Email'}, axis=1, inplace=True)\n",
    "winsorized_df"
   ]
  },
  {
   "cell_type": "code",
   "execution_count": null,
   "id": "5ee2b7be",
   "metadata": {},
   "outputs": [],
   "source": [
    "# Drop Duplicates in rows if any\n",
    "winsorized_df.drop_duplicates(inplace=True)"
   ]
  }
 ],
 "metadata": {
  "kernelspec": {
   "display_name": "Python 3 (ipykernel)",
   "language": "python",
   "name": "python3"
  },
  "language_info": {
   "codemirror_mode": {
    "name": "ipython",
    "version": 3
   },
   "file_extension": ".py",
   "mimetype": "text/x-python",
   "name": "python",
   "nbconvert_exporter": "python",
   "pygments_lexer": "ipython3",
   "version": "3.10.9"
  }
 },
 "nbformat": 4,
 "nbformat_minor": 5
}
