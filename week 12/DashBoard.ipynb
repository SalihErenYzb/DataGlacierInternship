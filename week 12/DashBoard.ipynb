{
 "cells": [
  {
   "cell_type": "code",
   "execution_count": 12,
   "id": "bd667219",
   "metadata": {},
   "outputs": [
    {
     "data": {
      "application/vnd.jupyter.widget-view+json": {
       "model_id": "c977920b91ff4daf88b5e375138f0b41",
       "version_major": 2,
       "version_minor": 0
      },
      "text/plain": [
       "Dropdown(description='Select Graph:', options=('Age vs. Satisfaction Rate', 'Country vs. Satisfaction Rate', '…"
      ]
     },
     "metadata": {},
     "output_type": "display_data"
    },
    {
     "data": {
      "application/vnd.jupyter.widget-view+json": {
       "model_id": "3ca125be25554c6c9fb86db394c59997",
       "version_major": 2,
       "version_minor": 0
      },
      "text/plain": [
       "Output()"
      ]
     },
     "metadata": {},
     "output_type": "display_data"
    }
   ],
   "source": [
    "import ipywidgets as widgets\n",
    "from IPython.display import display\n",
    "import plotly.express as px\n",
    "\n",
    "# Create the dropdown widget\n",
    "dropdown = widgets.Dropdown(\n",
    "    options=['Age vs. Satisfaction Rate', 'Country vs. Satisfaction Rate', 'Education Level vs. Satisfaction Rate',\n",
    "             'Number of Languages Spoken vs. Satisfaction Rate', 'Gender vs. Satisfaction Rate',\n",
    "             'Marital Status vs. Satisfaction Rate', 'Number of Children vs. Satisfaction Rate'],\n",
    "    value='Age vs. Satisfaction Rate',\n",
    "    description='Select Graph:'\n",
    ")\n",
    "\n",
    "# Create the output widget\n",
    "output = widgets.Output()\n",
    "\n",
    "# Define the function to handle dropdown changes\n",
    "def dropdown_change(change):\n",
    "    output.clear_output()\n",
    "    with output:\n",
    "        if change['new'] == 'Age vs. Satisfaction Rate':\n",
    "            fig = px.scatter(df, x='Age', y='Satisfaction Rate', color='Satisfaction Rate',\n",
    "                             title='Age vs. Satisfaction Rate',\n",
    "                             labels={'Age': 'Age', 'Satisfaction Rate': 'Satisfaction Rate'},\n",
    "                             trendline='ols')\n",
    "        elif change['new'] == 'Country vs. Satisfaction Rate':\n",
    "            fig = px.histogram(df, x='Country', y='Satisfaction Rate', histfunc='avg',\n",
    "                               title='Country vs. Satisfaction Rate',\n",
    "                               labels={'Country': 'Country'})\n",
    "        elif change['new'] == 'Education Level vs. Satisfaction Rate':\n",
    "            fig = px.histogram(df, x='Education Level', y='Satisfaction Rate', histfunc='avg',\n",
    "                               title='Education Level vs. Satisfaction Rate',\n",
    "                               labels={'Education Level': 'Education Level', 'Satisfaction Rate': 'Satisfaction Rate'})\n",
    "        elif change['new'] == 'Number of Languages Spoken vs. Satisfaction Rate':\n",
    "            fig = px.histogram(df, x='Number of Languages Spoken', y='Satisfaction Rate', histfunc='avg',\n",
    "                               title='Number of Languages Spoken vs. Satisfaction Rate',\n",
    "                               labels={'Number of Languages Spoken': 'Number of Languages Spoken',\n",
    "                                       'Satisfaction Rate': 'Satisfaction Rate'})\n",
    "        elif change['new'] == 'Gender vs. Satisfaction Rate':\n",
    "            fig = px.histogram(df, x='Gender', y='Satisfaction Rate', histfunc='avg',\n",
    "                               title='Gender vs. Satisfaction Rate',\n",
    "                               labels={'Gender': 'Gender', 'Satisfaction Rate': 'Satisfaction Rate'})\n",
    "        elif change['new'] == 'Marital Status vs. Satisfaction Rate':\n",
    "            fig = px.histogram(df, x='Marital Status', y='Satisfaction Rate', histfunc='avg',\n",
    "                               title='Marital Status vs. Satisfaction Rate',\n",
    "                               labels={'Marital Status': 'Marital Status', 'Satisfaction Rate': 'Satisfaction Rate'})\n",
    "        elif change['new'] == 'Number of Children vs. Satisfaction Rate':\n",
    "            fig = px.histogram(df, x='Number of Children', y='Satisfaction Rate', histfunc='avg',\n",
    "                               title='Number of Children vs. Satisfaction Rate',\n",
    "                               labels={'Number of Children': 'Number of Children', 'Satisfaction Rate': 'Satisfaction Rate'})\n",
    "        fig.show()\n",
    "\n",
    "# Register the function to handle dropdown changes\n",
    "dropdown.observe(dropdown_change, names='value')\n",
    "\n",
    "# Display the dropdown and output widgets\n",
    "display(dropdown)\n",
    "display(output)"
   ]
  }
 ],
 "metadata": {
  "kernelspec": {
   "display_name": "Python 3 (ipykernel)",
   "language": "python",
   "name": "python3"
  },
  "language_info": {
   "codemirror_mode": {
    "name": "ipython",
    "version": 3
   },
   "file_extension": ".py",
   "mimetype": "text/x-python",
   "name": "python",
   "nbconvert_exporter": "python",
   "pygments_lexer": "ipython3",
   "version": "3.10.9"
  }
 },
 "nbformat": 4,
 "nbformat_minor": 5
}
