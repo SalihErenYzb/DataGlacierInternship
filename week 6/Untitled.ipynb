{
 "cells": [
  {
   "cell_type": "code",
   "execution_count": 1,
   "id": "7736d468",
   "metadata": {},
   "outputs": [],
   "source": [
    "import os\n",
    "import time"
   ]
  },
  {
   "cell_type": "code",
   "execution_count": 2,
   "id": "58c29b26",
   "metadata": {},
   "outputs": [],
   "source": [
    "os.path.getsize(\"flight.csv\")\n",
    "file_path = 'flight.csv'"
   ]
  },
  {
   "cell_type": "markdown",
   "id": "f754dbd5",
   "metadata": {},
   "source": [
    "**Read in the data with Dask**"
   ]
  },
  {
   "cell_type": "code",
   "execution_count": 3,
   "id": "b6796366",
   "metadata": {},
   "outputs": [
    {
     "name": "stdout",
     "output_type": "stream",
     "text": [
      "Read csv with dask:  0.016516923904418945 sec\n"
     ]
    }
   ],
   "source": [
    "from dask import dataframe as dd\n",
    "start = time.time()\n",
    "dask_df = dd.read_csv(file_path, dtype={'totalTravelDistance': 'float64'})\n",
    "end = time.time()\n",
    "print(\"Read csv with dask: \",(end-start),\"sec\")\n",
    "del dask_df\n"
   ]
  },
  {
   "cell_type": "markdown",
   "id": "62acbf78",
   "metadata": {},
   "source": [
    "**Read in the data with Modin**"
   ]
  },
  {
   "cell_type": "code",
   "execution_count": 4,
   "id": "fd739a51",
   "metadata": {},
   "outputs": [
    {
     "name": "stderr",
     "output_type": "stream",
     "text": [
      "2023-08-03 15:43:36,593\tINFO worker.py:1544 -- Started a local Ray instance. View the dashboard at \u001b[1m\u001b[32m127.0.0.1:8265 \u001b[39m\u001b[22m\n",
      "UserWarning: When using a pre-initialized Ray cluster, please ensure that the runtime env sets environment variable __MODIN_AUTOIMPORT_PANDAS__ to 1\n",
      "\u001b[2m\u001b[33m(raylet)\u001b[0m c:\\Users\\Salih\\anaconda3\\lib\\site-packages\\ray\\dashboard\\agent.py:51: DeprecationWarning: There is no current event loop\n",
      "\u001b[2m\u001b[33m(raylet)\u001b[0m   aiogrpc.init_grpc_aio()\n",
      "\u001b[2m\u001b[33m(raylet)\u001b[0m c:\\Users\\Salih\\anaconda3\\lib\\site-packages\\ray\\dashboard\\modules\\reporter\\reporter_agent.py:56: UserWarning: `gpustat` package is not installed. GPU monitoring is not available. To have full functionality of the dashboard please install `pip install ray[default]`.)\n",
      "\u001b[2m\u001b[33m(raylet)\u001b[0m   warnings.warn(\n"
     ]
    },
    {
     "name": "stdout",
     "output_type": "stream",
     "text": [
      "Read csv with modin and ray:  70.89477944374084 sec\n"
     ]
    }
   ],
   "source": [
    "os.environ[\"__MODIN_AUTOIMPORT_PANDAS__\"] = \"1\"\n",
    "import modin.pandas as pd\n",
    "import ray\n",
    "ray.shutdown()\n",
    "ray.init()\n",
    "start = time.time()\n",
    "df = pd.read_csv(file_path)\n",
    "end = time.time()\n",
    "print(\"Read csv with modin and ray: \",(end-start),\"sec\")\n",
    "del df"
   ]
  },
  {
   "cell_type": "markdown",
   "id": "ce5bd5a3",
   "metadata": {},
   "source": [
    "**EXTRA: Read in the data with Polar**"
   ]
  },
  {
   "cell_type": "code",
   "execution_count": 5,
   "id": "113d19eb",
   "metadata": {},
   "outputs": [
    {
     "name": "stdout",
     "output_type": "stream",
     "text": [
      "Read csv with Polars:  34.13512921333313 sec\n"
     ]
    }
   ],
   "source": [
    "import polars as pl\n",
    "import time\n",
    "\n",
    "start = time.time()\n",
    "df = pl.read_csv(file_path)\n",
    "end = time.time()\n",
    "\n",
    "print(\"Read csv with Polars: \",(end-start),\"sec\")\n",
    "del df"
   ]
  },
  {
   "cell_type": "markdown",
   "id": "a803b2e6",
   "metadata": {},
   "source": [
    "**Read in the data with Pandas**"
   ]
  },
  {
   "cell_type": "code",
   "execution_count": 6,
   "id": "57aab1f5",
   "metadata": {},
   "outputs": [
    {
     "name": "stdout",
     "output_type": "stream",
     "text": [
      "Read csv with pandas:  74.97887182235718 sec\n"
     ]
    }
   ],
   "source": [
    "import pandas as pd\n",
    "start = time.time()\n",
    "dask_df = pd.read_csv(file_path)\n",
    "end = time.time()\n",
    "print(\"Read csv with pandas: \",(end-start),\"sec\")\n"
   ]
  },
  {
   "cell_type": "code",
   "execution_count": 7,
   "id": "87351418",
   "metadata": {},
   "outputs": [
    {
     "data": {
      "text/html": [
       "<div>\n",
       "<style scoped>\n",
       "    .dataframe tbody tr th:only-of-type {\n",
       "        vertical-align: middle;\n",
       "    }\n",
       "\n",
       "    .dataframe tbody tr th {\n",
       "        vertical-align: top;\n",
       "    }\n",
       "\n",
       "    .dataframe thead th {\n",
       "        text-align: right;\n",
       "    }\n",
       "</style>\n",
       "<table border=\"1\" class=\"dataframe\">\n",
       "  <thead>\n",
       "    <tr style=\"text-align: right;\">\n",
       "      <th></th>\n",
       "      <th>legId</th>\n",
       "      <th>searchDate</th>\n",
       "      <th>flightDate</th>\n",
       "      <th>startingAirport</th>\n",
       "      <th>destinationAirport</th>\n",
       "      <th>fareBasisCode</th>\n",
       "      <th>travelDuration</th>\n",
       "      <th>elapsedDays</th>\n",
       "      <th>isBasicEconomy</th>\n",
       "      <th>isRefundable</th>\n",
       "      <th>...</th>\n",
       "      <th>segmentsArrivalTimeEpochSeconds</th>\n",
       "      <th>segmentsArrivalTimeRaw</th>\n",
       "      <th>segmentsArrivalAirportCode</th>\n",
       "      <th>segmentsDepartureAirportCode</th>\n",
       "      <th>segmentsAirlineName</th>\n",
       "      <th>segmentsAirlineCode</th>\n",
       "      <th>segmentsEquipmentDescription</th>\n",
       "      <th>segmentsDurationInSeconds</th>\n",
       "      <th>segmentsDistance</th>\n",
       "      <th>segmentsCabinCode</th>\n",
       "    </tr>\n",
       "  </thead>\n",
       "  <tbody>\n",
       "    <tr>\n",
       "      <th>0</th>\n",
       "      <td>50c42c10658dfc36b84f4965190d016c</td>\n",
       "      <td>2022-04-16</td>\n",
       "      <td>2022-04-18</td>\n",
       "      <td>EWR</td>\n",
       "      <td>ORD</td>\n",
       "      <td>QAA0OHEN</td>\n",
       "      <td>PT2H29M</td>\n",
       "      <td>0</td>\n",
       "      <td>False</td>\n",
       "      <td>False</td>\n",
       "      <td>...</td>\n",
       "      <td>1650310440</td>\n",
       "      <td>2022-04-18T14:34:00.000-05:00</td>\n",
       "      <td>ORD</td>\n",
       "      <td>EWR</td>\n",
       "      <td>United</td>\n",
       "      <td>UA</td>\n",
       "      <td>Boeing 737-800</td>\n",
       "      <td>8940</td>\n",
       "      <td>720</td>\n",
       "      <td>coach</td>\n",
       "    </tr>\n",
       "    <tr>\n",
       "      <th>1</th>\n",
       "      <td>0689b6270162f9e3325e3c55fd9530fe</td>\n",
       "      <td>2022-04-17</td>\n",
       "      <td>2022-04-25</td>\n",
       "      <td>BOS</td>\n",
       "      <td>DFW</td>\n",
       "      <td>S7AHZNN3</td>\n",
       "      <td>PT4H28M</td>\n",
       "      <td>0</td>\n",
       "      <td>False</td>\n",
       "      <td>False</td>\n",
       "      <td>...</td>\n",
       "      <td>1650898200</td>\n",
       "      <td>2022-04-25T09:50:00.000-05:00</td>\n",
       "      <td>DFW</td>\n",
       "      <td>BOS</td>\n",
       "      <td>American Airlines</td>\n",
       "      <td>AA</td>\n",
       "      <td>Boeing 737-800</td>\n",
       "      <td>16080</td>\n",
       "      <td>1556</td>\n",
       "      <td>coach</td>\n",
       "    </tr>\n",
       "    <tr>\n",
       "      <th>2</th>\n",
       "      <td>df6855ce5c91936d0156dc5bed579f94</td>\n",
       "      <td>2022-04-16</td>\n",
       "      <td>2022-04-21</td>\n",
       "      <td>DFW</td>\n",
       "      <td>BOS</td>\n",
       "      <td>L0AZZNN1</td>\n",
       "      <td>PT3H40M</td>\n",
       "      <td>0</td>\n",
       "      <td>False</td>\n",
       "      <td>False</td>\n",
       "      <td>...</td>\n",
       "      <td>1650563160</td>\n",
       "      <td>2022-04-21T13:46:00.000-04:00</td>\n",
       "      <td>BOS</td>\n",
       "      <td>DFW</td>\n",
       "      <td>American Airlines</td>\n",
       "      <td>AA</td>\n",
       "      <td>Airbus A321</td>\n",
       "      <td>13200</td>\n",
       "      <td>1556</td>\n",
       "      <td>coach</td>\n",
       "    </tr>\n",
       "    <tr>\n",
       "      <th>3</th>\n",
       "      <td>5d1b3e32f51df4e50212d82758750150</td>\n",
       "      <td>2022-04-17</td>\n",
       "      <td>2022-04-21</td>\n",
       "      <td>IAD</td>\n",
       "      <td>SFO</td>\n",
       "      <td>UAA0AQEN</td>\n",
       "      <td>PT6H2M</td>\n",
       "      <td>1</td>\n",
       "      <td>False</td>\n",
       "      <td>False</td>\n",
       "      <td>...</td>\n",
       "      <td>1650615360</td>\n",
       "      <td>2022-04-22T01:16:00.000-07:00</td>\n",
       "      <td>SFO</td>\n",
       "      <td>IAD</td>\n",
       "      <td>United</td>\n",
       "      <td>UA</td>\n",
       "      <td>Boeing 737 MAX 9</td>\n",
       "      <td>21720</td>\n",
       "      <td>2426</td>\n",
       "      <td>coach</td>\n",
       "    </tr>\n",
       "    <tr>\n",
       "      <th>4</th>\n",
       "      <td>2a90ca19b2f416aa290c819972c31bc4</td>\n",
       "      <td>2022-04-16</td>\n",
       "      <td>2022-04-25</td>\n",
       "      <td>LGA</td>\n",
       "      <td>DFW</td>\n",
       "      <td>QAA0OKEN</td>\n",
       "      <td>PT6H15M</td>\n",
       "      <td>0</td>\n",
       "      <td>False</td>\n",
       "      <td>False</td>\n",
       "      <td>...</td>\n",
       "      <td>1650919200||1650925980</td>\n",
       "      <td>2022-04-25T15:40:00.000-05:00||2022-04-25T17:3...</td>\n",
       "      <td>IAH||DFW</td>\n",
       "      <td>LGA||IAH</td>\n",
       "      <td>United||United</td>\n",
       "      <td>UA||UA</td>\n",
       "      <td>Embraer 175 (Enhanced Winglets)||Airbus A319</td>\n",
       "      <td>15720||4380</td>\n",
       "      <td>1419||233</td>\n",
       "      <td>coach||coach</td>\n",
       "    </tr>\n",
       "  </tbody>\n",
       "</table>\n",
       "<p>5 rows × 27 columns</p>\n",
       "</div>"
      ],
      "text/plain": [
       "                              legId  searchDate  flightDate startingAirport  \\\n",
       "0  50c42c10658dfc36b84f4965190d016c  2022-04-16  2022-04-18             EWR   \n",
       "1  0689b6270162f9e3325e3c55fd9530fe  2022-04-17  2022-04-25             BOS   \n",
       "2  df6855ce5c91936d0156dc5bed579f94  2022-04-16  2022-04-21             DFW   \n",
       "3  5d1b3e32f51df4e50212d82758750150  2022-04-17  2022-04-21             IAD   \n",
       "4  2a90ca19b2f416aa290c819972c31bc4  2022-04-16  2022-04-25             LGA   \n",
       "\n",
       "  destinationAirport fareBasisCode travelDuration  elapsedDays  \\\n",
       "0                ORD      QAA0OHEN        PT2H29M            0   \n",
       "1                DFW      S7AHZNN3        PT4H28M            0   \n",
       "2                BOS      L0AZZNN1        PT3H40M            0   \n",
       "3                SFO      UAA0AQEN         PT6H2M            1   \n",
       "4                DFW      QAA0OKEN        PT6H15M            0   \n",
       "\n",
       "   isBasicEconomy  isRefundable  ...  segmentsArrivalTimeEpochSeconds  \\\n",
       "0           False         False  ...                       1650310440   \n",
       "1           False         False  ...                       1650898200   \n",
       "2           False         False  ...                       1650563160   \n",
       "3           False         False  ...                       1650615360   \n",
       "4           False         False  ...           1650919200||1650925980   \n",
       "\n",
       "                              segmentsArrivalTimeRaw  \\\n",
       "0                      2022-04-18T14:34:00.000-05:00   \n",
       "1                      2022-04-25T09:50:00.000-05:00   \n",
       "2                      2022-04-21T13:46:00.000-04:00   \n",
       "3                      2022-04-22T01:16:00.000-07:00   \n",
       "4  2022-04-25T15:40:00.000-05:00||2022-04-25T17:3...   \n",
       "\n",
       "   segmentsArrivalAirportCode  segmentsDepartureAirportCode  \\\n",
       "0                         ORD                           EWR   \n",
       "1                         DFW                           BOS   \n",
       "2                         BOS                           DFW   \n",
       "3                         SFO                           IAD   \n",
       "4                    IAH||DFW                      LGA||IAH   \n",
       "\n",
       "   segmentsAirlineName segmentsAirlineCode  \\\n",
       "0               United                  UA   \n",
       "1    American Airlines                  AA   \n",
       "2    American Airlines                  AA   \n",
       "3               United                  UA   \n",
       "4       United||United              UA||UA   \n",
       "\n",
       "                   segmentsEquipmentDescription segmentsDurationInSeconds  \\\n",
       "0                                Boeing 737-800                      8940   \n",
       "1                                Boeing 737-800                     16080   \n",
       "2                                   Airbus A321                     13200   \n",
       "3                              Boeing 737 MAX 9                     21720   \n",
       "4  Embraer 175 (Enhanced Winglets)||Airbus A319               15720||4380   \n",
       "\n",
       "  segmentsDistance segmentsCabinCode  \n",
       "0              720             coach  \n",
       "1             1556             coach  \n",
       "2             1556             coach  \n",
       "3             2426             coach  \n",
       "4        1419||233      coach||coach  \n",
       "\n",
       "[5 rows x 27 columns]"
      ]
     },
     "execution_count": 7,
     "metadata": {},
     "output_type": "execute_result"
    }
   ],
   "source": [
    "dask_df.head()"
   ]
  },
  {
   "cell_type": "code",
   "execution_count": 8,
   "id": "0aee8630",
   "metadata": {},
   "outputs": [
    {
     "data": {
      "text/plain": [
       "8213882"
      ]
     },
     "execution_count": 8,
     "metadata": {},
     "output_type": "execute_result"
    }
   ],
   "source": [
    "len(dask_df.index)"
   ]
  },
  {
   "cell_type": "code",
   "execution_count": 9,
   "id": "28804e49",
   "metadata": {},
   "outputs": [
    {
     "data": {
      "text/plain": [
       "27"
      ]
     },
     "execution_count": 9,
     "metadata": {},
     "output_type": "execute_result"
    }
   ],
   "source": [
    "len(dask_df.columns)"
   ]
  },
  {
   "cell_type": "code",
   "execution_count": 10,
   "id": "8d4a2ddc",
   "metadata": {},
   "outputs": [
    {
     "name": "stdout",
     "output_type": "stream",
     "text": [
      "<class 'pandas.core.frame.DataFrame'>\n",
      "RangeIndex: 8213882 entries, 0 to 8213881\n",
      "Data columns (total 27 columns):\n",
      " #   Column                             Dtype  \n",
      "---  ------                             -----  \n",
      " 0   legId                              object \n",
      " 1   searchDate                         object \n",
      " 2   flightDate                         object \n",
      " 3   startingAirport                    object \n",
      " 4   destinationAirport                 object \n",
      " 5   fareBasisCode                      object \n",
      " 6   travelDuration                     object \n",
      " 7   elapsedDays                        int64  \n",
      " 8   isBasicEconomy                     bool   \n",
      " 9   isRefundable                       bool   \n",
      " 10  isNonStop                          bool   \n",
      " 11  baseFare                           float64\n",
      " 12  totalFare                          float64\n",
      " 13  seatsRemaining                     int64  \n",
      " 14  totalTravelDistance                float64\n",
      " 15  segmentsDepartureTimeEpochSeconds  object \n",
      " 16  segmentsDepartureTimeRaw           object \n",
      " 17  segmentsArrivalTimeEpochSeconds    object \n",
      " 18  segmentsArrivalTimeRaw             object \n",
      " 19  segmentsArrivalAirportCode         object \n",
      " 20  segmentsDepartureAirportCode       object \n",
      " 21  segmentsAirlineName                object \n",
      " 22  segmentsAirlineCode                object \n",
      " 23  segmentsEquipmentDescription       object \n",
      " 24  segmentsDurationInSeconds          object \n",
      " 25  segmentsDistance                   object \n",
      " 26  segmentsCabinCode                  object \n",
      "dtypes: bool(3), float64(3), int64(2), object(19)\n",
      "memory usage: 1.5+ GB\n"
     ]
    }
   ],
   "source": [
    "dask_df.info()"
   ]
  },
  {
   "cell_type": "markdown",
   "id": "7ce57be7",
   "metadata": {},
   "source": [
    "As you can see Dask package has surpessed all other packages with great difference"
   ]
  },
  {
   "cell_type": "code",
   "execution_count": 11,
   "id": "d4b7d510",
   "metadata": {},
   "outputs": [
    {
     "name": "stderr",
     "output_type": "stream",
     "text": [
      "FutureWarning: The default value of regex will change from True to False in a future version.\n"
     ]
    }
   ],
   "source": [
    "# remove special character\n",
    "dask_df.columns=dask_df.columns.str.replace('[#,@,&]','')"
   ]
  },
  {
   "cell_type": "code",
   "execution_count": 12,
   "id": "6662be47",
   "metadata": {},
   "outputs": [],
   "source": [
    "#To remove white space from columns\n",
    "dask_df.columns = dask_df.columns.str.replace(' ', '')"
   ]
  },
  {
   "cell_type": "code",
   "execution_count": 13,
   "id": "b690bf3e",
   "metadata": {},
   "outputs": [
    {
     "data": {
      "text/plain": [
       "Index(['legId', 'searchDate', 'flightDate', 'startingAirport',\n",
       "       'destinationAirport', 'fareBasisCode', 'travelDuration', 'elapsedDays',\n",
       "       'isBasicEconomy', 'isRefundable', 'isNonStop', 'baseFare', 'totalFare',\n",
       "       'seatsRemaining', 'totalTravelDistance',\n",
       "       'segmentsDepartureTimeEpochSeconds', 'segmentsDepartureTimeRaw',\n",
       "       'segmentsArrivalTimeEpochSeconds', 'segmentsArrivalTimeRaw',\n",
       "       'segmentsArrivalAirportCode', 'segmentsDepartureAirportCode',\n",
       "       'segmentsAirlineName', 'segmentsAirlineCode',\n",
       "       'segmentsEquipmentDescription', 'segmentsDurationInSeconds',\n",
       "       'segmentsDistance', 'segmentsCabinCode'],\n",
       "      dtype='object')"
      ]
     },
     "execution_count": 13,
     "metadata": {},
     "output_type": "execute_result"
    }
   ],
   "source": [
    "data=dask_df.columns\n",
    "data"
   ]
  },
  {
   "cell_type": "code",
   "execution_count": 19,
   "id": "decd6e39",
   "metadata": {},
   "outputs": [
    {
     "name": "stdout",
     "output_type": "stream",
     "text": [
      "Overwriting data.yaml\n"
     ]
    }
   ],
   "source": [
    "%%writefile data.yaml\n",
    "dataset_name: testfile\n",
    "file_name: flight\n",
    "file_path: flight.csv\n",
    "file_type: csv\n",
    "inbound_delimiter: ','\n",
    "outbound_delimiter: '|'\n",
    "skip_leading_rows: 1\n",
    "table_name: edsurv\n",
    "column_counts:\n",
    "  baseFare: 8213882\n",
    "  destinationAirport: 8213882\n",
    "  elapsedDays: 8213882\n",
    "  fareBasisCode: 8213882\n",
    "  flightDate: 8213882\n",
    "  isBasicEconomy: 8213882\n",
    "  isNonStop: 8213882\n",
    "  isRefundable: 8213882\n",
    "  legId: 8213882\n",
    "  searchDate: 8213882\n",
    "  seatsRemaining: 8213882\n",
    "  segmentsAirlineCode: 8213882\n",
    "  segmentsAirlineName: 8213882\n",
    "  segmentsArrivalAirportCode: 8213882\n",
    "  segmentsArrivalTimeEpochSeconds: 8213882\n",
    "  segmentsArrivalTimeRaw: 8213882\n",
    "  segmentsCabinCode: 8213882\n",
    "  segmentsDepartureAirportCode: 8213882\n",
    "  segmentsDepartureTimeEpochSeconds: 8213882\n",
    "  segmentsDepartureTimeRaw: 8213882\n",
    "  segmentsDistance: 8213882\n",
    "  segmentsDurationInSeconds: 8213882\n",
    "  segmentsEquipmentDescription: 8058102\n",
    "  startingAirport: 8213882\n",
    "  totalFare: 8213882\n",
    "  totalTravelDistance: 7604289\n",
    "  travelDuration: 8213882\n",
    "columns:\n",
    "- legId\n",
    "- searchDate\n",
    "- flightDate\n",
    "- startingAirport\n",
    "- destinationAirport\n",
    "- fareBasisCode\n",
    "- travelDuration\n",
    "- elapsedDays\n",
    "- isBasicEconomy\n",
    "- isRefundable\n",
    "- isNonStop\n",
    "- baseFare\n",
    "- totalFare\n",
    "- seatsRemaining\n",
    "- totalTravelDistance\n",
    "- segmentsDepartureTimeEpochSeconds\n",
    "- segmentsDepartureTimeRaw\n",
    "- segmentsArrivalTimeEpochSeconds\n",
    "- segmentsArrivalTimeRaw\n",
    "- segmentsArrivalAirportCode\n",
    "- segmentsDepartureAirportCode\n",
    "- segmentsAirlineName\n",
    "- segmentsAirlineCode\n",
    "- segmentsEquipmentDescription\n",
    "- segmentsDurationInSeconds\n",
    "- segmentsDistance\n",
    "- segmentsCabinCode\n"
   ]
  },
  {
   "cell_type": "code",
   "execution_count": 15,
   "id": "5c8e4da8",
   "metadata": {},
   "outputs": [
    {
     "name": "stdout",
     "output_type": "stream",
     "text": [
      "Overwriting utility.py\n"
     ]
    }
   ],
   "source": [
    "%%writefile utility.py\n",
    "import logging\n",
    "import os\n",
    "import subprocess\n",
    "import yaml\n",
    "import pandas as pd\n",
    "import datetime \n",
    "import gc\n",
    "import re\n",
    "\n",
    "\n",
    "################\n",
    "# File Reading #\n",
    "################\n",
    "\n",
    "def read_config_file(filepath):\n",
    "    with open(filepath, 'r') as stream:\n",
    "        try:\n",
    "            return yaml.safe_load(stream)\n",
    "        except yaml.YAMLError as exc:\n",
    "            logging.error(exc)\n",
    "\n",
    "\n",
    "def replacer(string, char):\n",
    "    pattern = char + '{2,}'\n",
    "    string = re.sub(pattern, char, string) \n",
    "    return string\n",
    "\n",
    "def col_header_val(df,table_config):\n",
    "    '''\n",
    "    replace whitespaces in the column\n",
    "    and standardized column names\n",
    "    '''\n",
    "    df.columns = df.columns.str.lower()\n",
    "    df.columns = df.columns.str.replace('[^\\w]','_',regex=True)\n",
    "    df.columns = list(map(lambda x: x.strip('_'), list(df.columns)))\n",
    "    df.columns = list(map(lambda x: replacer(x,'_'), list(df.columns)))\n",
    "    expected_col = list(map(lambda x: x.lower(),  table_config['columns']))\n",
    "    expected_col.sort()\n",
    "    df.columns =list(map(lambda x: x.lower(), list(df.columns)))\n",
    "    df = df.reindex(sorted(df.columns), axis=1)\n",
    "    if len(df.columns) == len(expected_col) and list(expected_col)  == list(df.columns):\n",
    "        print(\"column name and column length validation passed\")\n",
    "        return 1\n",
    "    else:\n",
    "        print(\"column name and column length validation failed\")\n",
    "        mismatched_columns_file = list(set(df.columns).difference(expected_col))\n",
    "        print(\"Following File columns are not in the YAML file\",mismatched_columns_file)\n",
    "        missing_YAML_file = list(set(expected_col).difference(df.columns))\n",
    "        print(\"Following YAML columns are not in the file uploaded\",missing_YAML_file)\n",
    "        logging.info(f'df columns: {df.columns}')\n",
    "        logging.info(f'expected columns: {expected_col}')\n",
    "        return 0"
   ]
  },
  {
   "cell_type": "code",
   "execution_count": 20,
   "id": "eb3447eb",
   "metadata": {},
   "outputs": [
    {
     "data": {
      "text/plain": [
       "{'dataset_name': 'testfile',\n",
       " 'file_name': 'flight',\n",
       " 'file_path': 'flight.csv',\n",
       " 'file_type': 'csv',\n",
       " 'inbound_delimiter': ',',\n",
       " 'outbound_delimiter': '|',\n",
       " 'skip_leading_rows': 1,\n",
       " 'table_name': 'edsurv',\n",
       " 'column_counts': {'baseFare': 8213882,\n",
       "  'destinationAirport': 8213882,\n",
       "  'elapsedDays': 8213882,\n",
       "  'fareBasisCode': 8213882,\n",
       "  'flightDate': 8213882,\n",
       "  'isBasicEconomy': 8213882,\n",
       "  'isNonStop': 8213882,\n",
       "  'isRefundable': 8213882,\n",
       "  'legId': 8213882,\n",
       "  'searchDate': 8213882,\n",
       "  'seatsRemaining': 8213882,\n",
       "  'segmentsAirlineCode': 8213882,\n",
       "  'segmentsAirlineName': 8213882,\n",
       "  'segmentsArrivalAirportCode': 8213882,\n",
       "  'segmentsArrivalTimeEpochSeconds': 8213882,\n",
       "  'segmentsArrivalTimeRaw': 8213882,\n",
       "  'segmentsCabinCode': 8213882,\n",
       "  'segmentsDepartureAirportCode': 8213882,\n",
       "  'segmentsDepartureTimeEpochSeconds': 8213882,\n",
       "  'segmentsDepartureTimeRaw': 8213882,\n",
       "  'segmentsDistance': 8213882,\n",
       "  'segmentsDurationInSeconds': 8213882,\n",
       "  'segmentsEquipmentDescription': 8058102,\n",
       "  'startingAirport': 8213882,\n",
       "  'totalFare': 8213882,\n",
       "  'totalTravelDistance': 7604289,\n",
       "  'travelDuration': 8213882},\n",
       " 'columns': ['legId',\n",
       "  'searchDate',\n",
       "  'flightDate',\n",
       "  'startingAirport',\n",
       "  'destinationAirport',\n",
       "  'fareBasisCode',\n",
       "  'travelDuration',\n",
       "  'elapsedDays',\n",
       "  'isBasicEconomy',\n",
       "  'isRefundable',\n",
       "  'isNonStop',\n",
       "  'baseFare',\n",
       "  'totalFare',\n",
       "  'seatsRemaining',\n",
       "  'totalTravelDistance',\n",
       "  'segmentsDepartureTimeEpochSeconds',\n",
       "  'segmentsDepartureTimeRaw',\n",
       "  'segmentsArrivalTimeEpochSeconds',\n",
       "  'segmentsArrivalTimeRaw',\n",
       "  'segmentsArrivalAirportCode',\n",
       "  'segmentsDepartureAirportCode',\n",
       "  'segmentsAirlineName',\n",
       "  'segmentsAirlineCode',\n",
       "  'segmentsEquipmentDescription',\n",
       "  'segmentsDurationInSeconds',\n",
       "  'segmentsDistance',\n",
       "  'segmentsCabinCode']}"
      ]
     },
     "execution_count": 20,
     "metadata": {},
     "output_type": "execute_result"
    }
   ],
   "source": [
    "# Read config file\n",
    "import utility as util1\n",
    "config_data = util1.read_config_file(\"data.yaml\")\n",
    "\n",
    "#inspecting data of config file\n",
    "config_data"
   ]
  },
  {
   "cell_type": "code",
   "execution_count": 17,
   "id": "3547a5b1",
   "metadata": {},
   "outputs": [
    {
     "name": "stderr",
     "output_type": "stream",
     "text": [
      "FutureWarning: In a future version of pandas all arguments of read_csv except for the argument 'filepath_or_buffer' will be keyword-only.\n"
     ]
    },
    {
     "data": {
      "text/html": [
       "<div>\n",
       "<style scoped>\n",
       "    .dataframe tbody tr th:only-of-type {\n",
       "        vertical-align: middle;\n",
       "    }\n",
       "\n",
       "    .dataframe tbody tr th {\n",
       "        vertical-align: top;\n",
       "    }\n",
       "\n",
       "    .dataframe thead th {\n",
       "        text-align: right;\n",
       "    }\n",
       "</style>\n",
       "<table border=\"1\" class=\"dataframe\">\n",
       "  <thead>\n",
       "    <tr style=\"text-align: right;\">\n",
       "      <th></th>\n",
       "      <th>legId</th>\n",
       "      <th>searchDate</th>\n",
       "      <th>flightDate</th>\n",
       "      <th>startingAirport</th>\n",
       "      <th>destinationAirport</th>\n",
       "      <th>fareBasisCode</th>\n",
       "      <th>travelDuration</th>\n",
       "      <th>elapsedDays</th>\n",
       "      <th>isBasicEconomy</th>\n",
       "      <th>isRefundable</th>\n",
       "      <th>...</th>\n",
       "      <th>segmentsArrivalTimeEpochSeconds</th>\n",
       "      <th>segmentsArrivalTimeRaw</th>\n",
       "      <th>segmentsArrivalAirportCode</th>\n",
       "      <th>segmentsDepartureAirportCode</th>\n",
       "      <th>segmentsAirlineName</th>\n",
       "      <th>segmentsAirlineCode</th>\n",
       "      <th>segmentsEquipmentDescription</th>\n",
       "      <th>segmentsDurationInSeconds</th>\n",
       "      <th>segmentsDistance</th>\n",
       "      <th>segmentsCabinCode</th>\n",
       "    </tr>\n",
       "  </thead>\n",
       "  <tbody>\n",
       "    <tr>\n",
       "      <th>0</th>\n",
       "      <td>50c42c10658dfc36b84f4965190d016c</td>\n",
       "      <td>2022-04-16</td>\n",
       "      <td>2022-04-18</td>\n",
       "      <td>EWR</td>\n",
       "      <td>ORD</td>\n",
       "      <td>QAA0OHEN</td>\n",
       "      <td>PT2H29M</td>\n",
       "      <td>0</td>\n",
       "      <td>False</td>\n",
       "      <td>False</td>\n",
       "      <td>...</td>\n",
       "      <td>1650310440</td>\n",
       "      <td>2022-04-18T14:34:00.000-05:00</td>\n",
       "      <td>ORD</td>\n",
       "      <td>EWR</td>\n",
       "      <td>United</td>\n",
       "      <td>UA</td>\n",
       "      <td>Boeing 737-800</td>\n",
       "      <td>8940</td>\n",
       "      <td>720</td>\n",
       "      <td>coach</td>\n",
       "    </tr>\n",
       "    <tr>\n",
       "      <th>1</th>\n",
       "      <td>0689b6270162f9e3325e3c55fd9530fe</td>\n",
       "      <td>2022-04-17</td>\n",
       "      <td>2022-04-25</td>\n",
       "      <td>BOS</td>\n",
       "      <td>DFW</td>\n",
       "      <td>S7AHZNN3</td>\n",
       "      <td>PT4H28M</td>\n",
       "      <td>0</td>\n",
       "      <td>False</td>\n",
       "      <td>False</td>\n",
       "      <td>...</td>\n",
       "      <td>1650898200</td>\n",
       "      <td>2022-04-25T09:50:00.000-05:00</td>\n",
       "      <td>DFW</td>\n",
       "      <td>BOS</td>\n",
       "      <td>American Airlines</td>\n",
       "      <td>AA</td>\n",
       "      <td>Boeing 737-800</td>\n",
       "      <td>16080</td>\n",
       "      <td>1556</td>\n",
       "      <td>coach</td>\n",
       "    </tr>\n",
       "    <tr>\n",
       "      <th>2</th>\n",
       "      <td>df6855ce5c91936d0156dc5bed579f94</td>\n",
       "      <td>2022-04-16</td>\n",
       "      <td>2022-04-21</td>\n",
       "      <td>DFW</td>\n",
       "      <td>BOS</td>\n",
       "      <td>L0AZZNN1</td>\n",
       "      <td>PT3H40M</td>\n",
       "      <td>0</td>\n",
       "      <td>False</td>\n",
       "      <td>False</td>\n",
       "      <td>...</td>\n",
       "      <td>1650563160</td>\n",
       "      <td>2022-04-21T13:46:00.000-04:00</td>\n",
       "      <td>BOS</td>\n",
       "      <td>DFW</td>\n",
       "      <td>American Airlines</td>\n",
       "      <td>AA</td>\n",
       "      <td>Airbus A321</td>\n",
       "      <td>13200</td>\n",
       "      <td>1556</td>\n",
       "      <td>coach</td>\n",
       "    </tr>\n",
       "    <tr>\n",
       "      <th>3</th>\n",
       "      <td>5d1b3e32f51df4e50212d82758750150</td>\n",
       "      <td>2022-04-17</td>\n",
       "      <td>2022-04-21</td>\n",
       "      <td>IAD</td>\n",
       "      <td>SFO</td>\n",
       "      <td>UAA0AQEN</td>\n",
       "      <td>PT6H2M</td>\n",
       "      <td>1</td>\n",
       "      <td>False</td>\n",
       "      <td>False</td>\n",
       "      <td>...</td>\n",
       "      <td>1650615360</td>\n",
       "      <td>2022-04-22T01:16:00.000-07:00</td>\n",
       "      <td>SFO</td>\n",
       "      <td>IAD</td>\n",
       "      <td>United</td>\n",
       "      <td>UA</td>\n",
       "      <td>Boeing 737 MAX 9</td>\n",
       "      <td>21720</td>\n",
       "      <td>2426</td>\n",
       "      <td>coach</td>\n",
       "    </tr>\n",
       "    <tr>\n",
       "      <th>4</th>\n",
       "      <td>2a90ca19b2f416aa290c819972c31bc4</td>\n",
       "      <td>2022-04-16</td>\n",
       "      <td>2022-04-25</td>\n",
       "      <td>LGA</td>\n",
       "      <td>DFW</td>\n",
       "      <td>QAA0OKEN</td>\n",
       "      <td>PT6H15M</td>\n",
       "      <td>0</td>\n",
       "      <td>False</td>\n",
       "      <td>False</td>\n",
       "      <td>...</td>\n",
       "      <td>1650919200||1650925980</td>\n",
       "      <td>2022-04-25T15:40:00.000-05:00||2022-04-25T17:3...</td>\n",
       "      <td>IAH||DFW</td>\n",
       "      <td>LGA||IAH</td>\n",
       "      <td>United||United</td>\n",
       "      <td>UA||UA</td>\n",
       "      <td>Embraer 175 (Enhanced Winglets)||Airbus A319</td>\n",
       "      <td>15720||4380</td>\n",
       "      <td>1419||233</td>\n",
       "      <td>coach||coach</td>\n",
       "    </tr>\n",
       "  </tbody>\n",
       "</table>\n",
       "<p>5 rows × 27 columns</p>\n",
       "</div>"
      ],
      "text/plain": [
       "                              legId  searchDate  flightDate startingAirport  \\\n",
       "0  50c42c10658dfc36b84f4965190d016c  2022-04-16  2022-04-18             EWR   \n",
       "1  0689b6270162f9e3325e3c55fd9530fe  2022-04-17  2022-04-25             BOS   \n",
       "2  df6855ce5c91936d0156dc5bed579f94  2022-04-16  2022-04-21             DFW   \n",
       "3  5d1b3e32f51df4e50212d82758750150  2022-04-17  2022-04-21             IAD   \n",
       "4  2a90ca19b2f416aa290c819972c31bc4  2022-04-16  2022-04-25             LGA   \n",
       "\n",
       "  destinationAirport fareBasisCode travelDuration  elapsedDays  \\\n",
       "0                ORD      QAA0OHEN        PT2H29M            0   \n",
       "1                DFW      S7AHZNN3        PT4H28M            0   \n",
       "2                BOS      L0AZZNN1        PT3H40M            0   \n",
       "3                SFO      UAA0AQEN         PT6H2M            1   \n",
       "4                DFW      QAA0OKEN        PT6H15M            0   \n",
       "\n",
       "   isBasicEconomy  isRefundable  ...  segmentsArrivalTimeEpochSeconds  \\\n",
       "0           False         False  ...                       1650310440   \n",
       "1           False         False  ...                       1650898200   \n",
       "2           False         False  ...                       1650563160   \n",
       "3           False         False  ...                       1650615360   \n",
       "4           False         False  ...           1650919200||1650925980   \n",
       "\n",
       "                              segmentsArrivalTimeRaw  \\\n",
       "0                      2022-04-18T14:34:00.000-05:00   \n",
       "1                      2022-04-25T09:50:00.000-05:00   \n",
       "2                      2022-04-21T13:46:00.000-04:00   \n",
       "3                      2022-04-22T01:16:00.000-07:00   \n",
       "4  2022-04-25T15:40:00.000-05:00||2022-04-25T17:3...   \n",
       "\n",
       "   segmentsArrivalAirportCode  segmentsDepartureAirportCode  \\\n",
       "0                         ORD                           EWR   \n",
       "1                         DFW                           BOS   \n",
       "2                         BOS                           DFW   \n",
       "3                         SFO                           IAD   \n",
       "4                    IAH||DFW                      LGA||IAH   \n",
       "\n",
       "   segmentsAirlineName segmentsAirlineCode  \\\n",
       "0               United                  UA   \n",
       "1    American Airlines                  AA   \n",
       "2    American Airlines                  AA   \n",
       "3               United                  UA   \n",
       "4       United||United              UA||UA   \n",
       "\n",
       "                   segmentsEquipmentDescription segmentsDurationInSeconds  \\\n",
       "0                                Boeing 737-800                      8940   \n",
       "1                                Boeing 737-800                     16080   \n",
       "2                                   Airbus A321                     13200   \n",
       "3                              Boeing 737 MAX 9                     21720   \n",
       "4  Embraer 175 (Enhanced Winglets)||Airbus A319               15720||4380   \n",
       "\n",
       "  segmentsDistance segmentsCabinCode  \n",
       "0              720             coach  \n",
       "1             1556             coach  \n",
       "2             1556             coach  \n",
       "3             2426             coach  \n",
       "4        1419||233      coach||coach  \n",
       "\n",
       "[5 rows x 27 columns]"
      ]
     },
     "execution_count": 17,
     "metadata": {},
     "output_type": "execute_result"
    }
   ],
   "source": [
    "# read the file using config file\n",
    "file_type = config_data['file_type']\n",
    "source_file =  config_data['file_name'] + f'.{file_type}'\n",
    "#print(\"\",source_file)\n",
    "df = pd.read_csv(source_file,config_data['inbound_delimiter'])\n",
    "df.head()"
   ]
  },
  {
   "cell_type": "code",
   "execution_count": 21,
   "id": "85b2bfbd",
   "metadata": {},
   "outputs": [
    {
     "name": "stdout",
     "output_type": "stream",
     "text": [
      "column name and column length validation passed\n"
     ]
    },
    {
     "data": {
      "text/plain": [
       "1"
      ]
     },
     "execution_count": 21,
     "metadata": {},
     "output_type": "execute_result"
    }
   ],
   "source": [
    "#validate the header of the file\n",
    "util1.col_header_val(df,config_data)"
   ]
  },
  {
   "cell_type": "code",
   "execution_count": 22,
   "id": "eab3d2e9",
   "metadata": {},
   "outputs": [
    {
     "name": "stdout",
     "output_type": "stream",
     "text": [
      "columns of files are: Index(['legid', 'searchdate', 'flightdate', 'startingairport',\n",
      "       'destinationairport', 'farebasiscode', 'travelduration', 'elapseddays',\n",
      "       'isbasiceconomy', 'isrefundable', 'isnonstop', 'basefare', 'totalfare',\n",
      "       'seatsremaining', 'totaltraveldistance',\n",
      "       'segmentsdeparturetimeepochseconds', 'segmentsdeparturetimeraw',\n",
      "       'segmentsarrivaltimeepochseconds', 'segmentsarrivaltimeraw',\n",
      "       'segmentsarrivalairportcode', 'segmentsdepartureairportcode',\n",
      "       'segmentsairlinename', 'segmentsairlinecode',\n",
      "       'segmentsequipmentdescription', 'segmentsdurationinseconds',\n",
      "       'segmentsdistance', 'segmentscabincode'],\n",
      "      dtype='object')\n",
      "columns of YAML are: ['legId', 'searchDate', 'flightDate', 'startingAirport', 'destinationAirport', 'fareBasisCode', 'travelDuration', 'elapsedDays', 'isBasicEconomy', 'isRefundable', 'isNonStop', 'baseFare', 'totalFare', 'seatsRemaining', 'totalTravelDistance', 'segmentsDepartureTimeEpochSeconds', 'segmentsDepartureTimeRaw', 'segmentsArrivalTimeEpochSeconds', 'segmentsArrivalTimeRaw', 'segmentsArrivalAirportCode', 'segmentsDepartureAirportCode', 'segmentsAirlineName', 'segmentsAirlineCode', 'segmentsEquipmentDescription', 'segmentsDurationInSeconds', 'segmentsDistance', 'segmentsCabinCode']\n"
     ]
    }
   ],
   "source": [
    "print(\"columns of files are:\" ,df.columns)\n",
    "print(\"columns of YAML are:\" ,config_data['columns'])"
   ]
  },
  {
   "cell_type": "code",
   "execution_count": 24,
   "id": "3e7d3173",
   "metadata": {},
   "outputs": [
    {
     "name": "stdout",
     "output_type": "stream",
     "text": [
      "column name and column length validation passed\n",
      "col validation passed\n"
     ]
    }
   ],
   "source": [
    "if util1.col_header_val(df,config_data)==0:\n",
    "    print(\"validation failed\")\n",
    "    # write code to reject the file\n",
    "else:\n",
    "    print(\"col validation passed\")\n",
    "    # write the code to perform further action\n",
    "    # in the pipleine"
   ]
  },
  {
   "cell_type": "code",
   "execution_count": 25,
   "id": "27fdc2b1",
   "metadata": {},
   "outputs": [
    {
     "name": "stderr",
     "output_type": "stream",
     "text": [
      "FutureWarning: the 'line_terminator'' keyword is deprecated, use 'lineterminator' instead.\n",
      "FutureWarning: the 'line_terminator'' keyword is deprecated, use 'lineterminator' instead.\n",
      "FutureWarning: the 'line_terminator'' keyword is deprecated, use 'lineterminator' instead.\n",
      "FutureWarning: the 'line_terminator'' keyword is deprecated, use 'lineterminator' instead.\n",
      "FutureWarning: the 'line_terminator'' keyword is deprecated, use 'lineterminator' instead.\n",
      "FutureWarning: the 'line_terminator'' keyword is deprecated, use 'lineterminator' instead.\n",
      "FutureWarning: the 'line_terminator'' keyword is deprecated, use 'lineterminator' instead.\n",
      "FutureWarning: the 'line_terminator'' keyword is deprecated, use 'lineterminator' instead.\n",
      "FutureWarning: the 'line_terminator'' keyword is deprecated, use 'lineterminator' instead.\n",
      "FutureWarning: the 'line_terminator'' keyword is deprecated, use 'lineterminator' instead.\n",
      "FutureWarning: the 'line_terminator'' keyword is deprecated, use 'lineterminator' instead.\n",
      "FutureWarning: the 'line_terminator'' keyword is deprecated, use 'lineterminator' instead.\n",
      "FutureWarning: the 'line_terminator'' keyword is deprecated, use 'lineterminator' instead.\n",
      "FutureWarning: the 'line_terminator'' keyword is deprecated, use 'lineterminator' instead.\n",
      "FutureWarning: the 'line_terminator'' keyword is deprecated, use 'lineterminator' instead.\n",
      "FutureWarning: the 'line_terminator'' keyword is deprecated, use 'lineterminator' instead.\n",
      "FutureWarning: the 'line_terminator'' keyword is deprecated, use 'lineterminator' instead.\n",
      "FutureWarning: the 'line_terminator'' keyword is deprecated, use 'lineterminator' instead.\n",
      "FutureWarning: the 'line_terminator'' keyword is deprecated, use 'lineterminator' instead.\n",
      "FutureWarning: the 'line_terminator'' keyword is deprecated, use 'lineterminator' instead.\n",
      "FutureWarning: the 'line_terminator'' keyword is deprecated, use 'lineterminator' instead.\n",
      "FutureWarning: the 'line_terminator'' keyword is deprecated, use 'lineterminator' instead.\n",
      "FutureWarning: the 'line_terminator'' keyword is deprecated, use 'lineterminator' instead.\n",
      "FutureWarning: the 'line_terminator'' keyword is deprecated, use 'lineterminator' instead.\n",
      "FutureWarning: the 'line_terminator'' keyword is deprecated, use 'lineterminator' instead.\n",
      "FutureWarning: the 'line_terminator'' keyword is deprecated, use 'lineterminator' instead.\n",
      "FutureWarning: the 'line_terminator'' keyword is deprecated, use 'lineterminator' instead.\n",
      "FutureWarning: the 'line_terminator'' keyword is deprecated, use 'lineterminator' instead.\n",
      "FutureWarning: the 'line_terminator'' keyword is deprecated, use 'lineterminator' instead.\n",
      "FutureWarning: the 'line_terminator'' keyword is deprecated, use 'lineterminator' instead.\n",
      "FutureWarning: the 'line_terminator'' keyword is deprecated, use 'lineterminator' instead.\n",
      "FutureWarning: the 'line_terminator'' keyword is deprecated, use 'lineterminator' instead.\n",
      "FutureWarning: the 'line_terminator'' keyword is deprecated, use 'lineterminator' instead.\n",
      "FutureWarning: the 'line_terminator'' keyword is deprecated, use 'lineterminator' instead.\n"
     ]
    },
    {
     "data": {
      "text/plain": [
       "['c:\\\\Users\\\\Salih\\\\Desktop\\\\week 6\\\\flight.csv.gz\\\\00.part',\n",
       " 'c:\\\\Users\\\\Salih\\\\Desktop\\\\week 6\\\\flight.csv.gz\\\\01.part',\n",
       " 'c:\\\\Users\\\\Salih\\\\Desktop\\\\week 6\\\\flight.csv.gz\\\\02.part',\n",
       " 'c:\\\\Users\\\\Salih\\\\Desktop\\\\week 6\\\\flight.csv.gz\\\\03.part',\n",
       " 'c:\\\\Users\\\\Salih\\\\Desktop\\\\week 6\\\\flight.csv.gz\\\\04.part',\n",
       " 'c:\\\\Users\\\\Salih\\\\Desktop\\\\week 6\\\\flight.csv.gz\\\\05.part',\n",
       " 'c:\\\\Users\\\\Salih\\\\Desktop\\\\week 6\\\\flight.csv.gz\\\\06.part',\n",
       " 'c:\\\\Users\\\\Salih\\\\Desktop\\\\week 6\\\\flight.csv.gz\\\\07.part',\n",
       " 'c:\\\\Users\\\\Salih\\\\Desktop\\\\week 6\\\\flight.csv.gz\\\\08.part',\n",
       " 'c:\\\\Users\\\\Salih\\\\Desktop\\\\week 6\\\\flight.csv.gz\\\\09.part',\n",
       " 'c:\\\\Users\\\\Salih\\\\Desktop\\\\week 6\\\\flight.csv.gz\\\\10.part',\n",
       " 'c:\\\\Users\\\\Salih\\\\Desktop\\\\week 6\\\\flight.csv.gz\\\\11.part',\n",
       " 'c:\\\\Users\\\\Salih\\\\Desktop\\\\week 6\\\\flight.csv.gz\\\\12.part',\n",
       " 'c:\\\\Users\\\\Salih\\\\Desktop\\\\week 6\\\\flight.csv.gz\\\\13.part',\n",
       " 'c:\\\\Users\\\\Salih\\\\Desktop\\\\week 6\\\\flight.csv.gz\\\\14.part',\n",
       " 'c:\\\\Users\\\\Salih\\\\Desktop\\\\week 6\\\\flight.csv.gz\\\\15.part',\n",
       " 'c:\\\\Users\\\\Salih\\\\Desktop\\\\week 6\\\\flight.csv.gz\\\\16.part',\n",
       " 'c:\\\\Users\\\\Salih\\\\Desktop\\\\week 6\\\\flight.csv.gz\\\\17.part',\n",
       " 'c:\\\\Users\\\\Salih\\\\Desktop\\\\week 6\\\\flight.csv.gz\\\\18.part',\n",
       " 'c:\\\\Users\\\\Salih\\\\Desktop\\\\week 6\\\\flight.csv.gz\\\\19.part',\n",
       " 'c:\\\\Users\\\\Salih\\\\Desktop\\\\week 6\\\\flight.csv.gz\\\\20.part',\n",
       " 'c:\\\\Users\\\\Salih\\\\Desktop\\\\week 6\\\\flight.csv.gz\\\\21.part',\n",
       " 'c:\\\\Users\\\\Salih\\\\Desktop\\\\week 6\\\\flight.csv.gz\\\\22.part',\n",
       " 'c:\\\\Users\\\\Salih\\\\Desktop\\\\week 6\\\\flight.csv.gz\\\\23.part',\n",
       " 'c:\\\\Users\\\\Salih\\\\Desktop\\\\week 6\\\\flight.csv.gz\\\\24.part',\n",
       " 'c:\\\\Users\\\\Salih\\\\Desktop\\\\week 6\\\\flight.csv.gz\\\\25.part',\n",
       " 'c:\\\\Users\\\\Salih\\\\Desktop\\\\week 6\\\\flight.csv.gz\\\\26.part',\n",
       " 'c:\\\\Users\\\\Salih\\\\Desktop\\\\week 6\\\\flight.csv.gz\\\\27.part',\n",
       " 'c:\\\\Users\\\\Salih\\\\Desktop\\\\week 6\\\\flight.csv.gz\\\\28.part',\n",
       " 'c:\\\\Users\\\\Salih\\\\Desktop\\\\week 6\\\\flight.csv.gz\\\\29.part',\n",
       " 'c:\\\\Users\\\\Salih\\\\Desktop\\\\week 6\\\\flight.csv.gz\\\\30.part',\n",
       " 'c:\\\\Users\\\\Salih\\\\Desktop\\\\week 6\\\\flight.csv.gz\\\\31.part',\n",
       " 'c:\\\\Users\\\\Salih\\\\Desktop\\\\week 6\\\\flight.csv.gz\\\\32.part',\n",
       " 'c:\\\\Users\\\\Salih\\\\Desktop\\\\week 6\\\\flight.csv.gz\\\\33.part',\n",
       " 'c:\\\\Users\\\\Salih\\\\Desktop\\\\week 6\\\\flight.csv.gz\\\\34.part',\n",
       " 'c:\\\\Users\\\\Salih\\\\Desktop\\\\week 6\\\\flight.csv.gz\\\\35.part',\n",
       " 'c:\\\\Users\\\\Salih\\\\Desktop\\\\week 6\\\\flight.csv.gz\\\\36.part',\n",
       " 'c:\\\\Users\\\\Salih\\\\Desktop\\\\week 6\\\\flight.csv.gz\\\\37.part',\n",
       " 'c:\\\\Users\\\\Salih\\\\Desktop\\\\week 6\\\\flight.csv.gz\\\\38.part',\n",
       " 'c:\\\\Users\\\\Salih\\\\Desktop\\\\week 6\\\\flight.csv.gz\\\\39.part',\n",
       " 'c:\\\\Users\\\\Salih\\\\Desktop\\\\week 6\\\\flight.csv.gz\\\\40.part',\n",
       " 'c:\\\\Users\\\\Salih\\\\Desktop\\\\week 6\\\\flight.csv.gz\\\\41.part',\n",
       " 'c:\\\\Users\\\\Salih\\\\Desktop\\\\week 6\\\\flight.csv.gz\\\\42.part',\n",
       " 'c:\\\\Users\\\\Salih\\\\Desktop\\\\week 6\\\\flight.csv.gz\\\\43.part',\n",
       " 'c:\\\\Users\\\\Salih\\\\Desktop\\\\week 6\\\\flight.csv.gz\\\\44.part',\n",
       " 'c:\\\\Users\\\\Salih\\\\Desktop\\\\week 6\\\\flight.csv.gz\\\\45.part',\n",
       " 'c:\\\\Users\\\\Salih\\\\Desktop\\\\week 6\\\\flight.csv.gz\\\\46.part',\n",
       " 'c:\\\\Users\\\\Salih\\\\Desktop\\\\week 6\\\\flight.csv.gz\\\\47.part']"
      ]
     },
     "execution_count": 25,
     "metadata": {},
     "output_type": "execute_result"
    }
   ],
   "source": [
    "import gzip\n",
    "import csv\n",
    "\n",
    "from dask import dataframe as dd\n",
    "df = dd.read_csv(file_path,delimiter=',')\n",
    "\n",
    "# Write csv in gz format in pipe separated text file (|)\n",
    "df.to_csv(file_path+'.gz',\n",
    "          sep='|',\n",
    "          header=True,\n",
    "          index=False,\n",
    "          quoting=csv.QUOTE_ALL,\n",
    "          compression='gzip',\n",
    "          quotechar='\"',\n",
    "          doublequote=True,\n",
    "          line_terminator='\\n')"
   ]
  }
 ],
 "metadata": {
  "kernelspec": {
   "display_name": "Python 3 (ipykernel)",
   "language": "python",
   "name": "python3"
  },
  "language_info": {
   "codemirror_mode": {
    "name": "ipython",
    "version": 3
   },
   "file_extension": ".py",
   "mimetype": "text/x-python",
   "name": "python",
   "nbconvert_exporter": "python",
   "pygments_lexer": "ipython3",
   "version": "3.10.9"
  }
 },
 "nbformat": 4,
 "nbformat_minor": 5
}
