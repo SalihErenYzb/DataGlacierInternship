{
 "cells": [
  {
   "cell_type": "code",
   "execution_count": 3,
   "id": "7736d468",
   "metadata": {},
   "outputs": [],
   "source": [
    "import os\n",
    "import time"
   ]
  },
  {
   "cell_type": "code",
   "execution_count": null,
   "id": "58c29b26",
   "metadata": {},
   "outputs": [],
   "source": [
    "os.path.getsize(\"\")"
   ]
  },
  {
   "cell_type": "markdown",
   "id": "f754dbd5",
   "metadata": {},
   "source": [
    "**Read in the data with Dask**"
   ]
  },
  {
   "cell_type": "code",
   "execution_count": null,
   "id": "b6796366",
   "metadata": {},
   "outputs": [],
   "source": [
    "from dask import dataframe as dd\n",
    "start = time.time()\n",
    "dask_df = dd.read_csv('')\n",
    "end = time.time()\n",
    "print(\"Read csv with dask: \",(end-start),\"sec\")"
   ]
  },
  {
   "cell_type": "markdown",
   "id": "62acbf78",
   "metadata": {},
   "source": [
    "**Read in the data with Modin**"
   ]
  },
  {
   "cell_type": "code",
   "execution_count": null,
   "id": "fd739a51",
   "metadata": {},
   "outputs": [],
   "source": [
    "import modin.pandas as pd1\n",
    "start = time.time()\n",
    "df = pd1.read_csv('')\n",
    "end = time.time()\n",
    "print(\"Read csv with modin: \",(end-start),\"sec\")"
   ]
  },
  {
   "cell_type": "markdown",
   "id": "5bad994c",
   "metadata": {},
   "source": [
    "**Read in the data with Ray**"
   ]
  },
  {
   "cell_type": "code",
   "execution_count": null,
   "id": "a5476520",
   "metadata": {},
   "outputs": [],
   "source": [
    "import ray.dataframe as rdf\n",
    "start = time.time()\n",
    "data = rdf.read_csv('data.csv')\n",
    "end = time.time()\n",
    "print(\"Read csv with ray: \",(end-start),\"sec\")"
   ]
  },
  {
   "cell_type": "markdown",
   "id": "ce5bd5a3",
   "metadata": {},
   "source": [
    "**EXTRA: Read in the data with Polar**"
   ]
  },
  {
   "cell_type": "code",
   "execution_count": null,
   "id": "113d19eb",
   "metadata": {},
   "outputs": [],
   "source": [
    "import polars as pl\n",
    "import time\n",
    "\n",
    "start = time.time()\n",
    "data = pl.read_csv('data.csv')\n",
    "end = time.time()\n",
    "\n",
    "print(\"Read csv with Polars: \",(end-start),\"sec\")"
   ]
  },
  {
   "cell_type": "markdown",
   "id": "a803b2e6",
   "metadata": {},
   "source": [
    "**Read in the data with Pandas**"
   ]
  },
  {
   "cell_type": "code",
   "execution_count": null,
   "id": "57aab1f5",
   "metadata": {},
   "outputs": [],
   "source": [
    "import pandas as pd\n",
    "start = time.time()\n",
    "df = pd.read_csv('')\n",
    "end = time.time()\n",
    "print(\"Read csv with pandas: \",(end-start),\"sec\")"
   ]
  }
 ],
 "metadata": {
  "kernelspec": {
   "display_name": "Python 3 (ipykernel)",
   "language": "python",
   "name": "python3"
  },
  "language_info": {
   "codemirror_mode": {
    "name": "ipython",
    "version": 3
   },
   "file_extension": ".py",
   "mimetype": "text/x-python",
   "name": "python",
   "nbconvert_exporter": "python",
   "pygments_lexer": "ipython3",
   "version": "3.9.13"
  }
 },
 "nbformat": 4,
 "nbformat_minor": 5
}
